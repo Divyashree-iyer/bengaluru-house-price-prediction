{
 "cells": [
  {
   "cell_type": "code",
   "execution_count": 1,
   "id": "4b9b8f37",
   "metadata": {
    "_cell_guid": "b1076dfc-b9ad-4769-8c92-a6c4dae69d19",
    "_uuid": "8f2839f25d086af736a60e9eeb907d3b93b6e0e5",
    "execution": {
     "iopub.execute_input": "2024-06-20T20:59:50.178092Z",
     "iopub.status.busy": "2024-06-20T20:59:50.177615Z",
     "iopub.status.idle": "2024-06-20T20:59:53.259423Z",
     "shell.execute_reply": "2024-06-20T20:59:53.257987Z"
    },
    "papermill": {
     "duration": 3.10297,
     "end_time": "2024-06-20T20:59:53.262649",
     "exception": false,
     "start_time": "2024-06-20T20:59:50.159679",
     "status": "completed"
    },
    "tags": []
   },
   "outputs": [],
   "source": [
    "import numpy as np \n",
    "import pandas as pd \n",
    "import seaborn as sns\n",
    "import matplotlib.pyplot as plt\n",
    "%matplotlib inline\n",
    "\n",
    "import re\n",
    "\n",
    "from sklearn import linear_model\n",
    "from sklearn.model_selection import train_test_split, ShuffleSplit, cross_val_score\n",
    "\n",
    "import warnings\n",
    "warnings.filterwarnings('ignore')"
   ]
  },
  {
   "cell_type": "code",
   "execution_count": 2,
   "id": "e5da1ce0",
   "metadata": {
    "execution": {
     "iopub.execute_input": "2024-06-20T20:59:53.297190Z",
     "iopub.status.busy": "2024-06-20T20:59:53.296475Z",
     "iopub.status.idle": "2024-06-20T20:59:53.395869Z",
     "shell.execute_reply": "2024-06-20T20:59:53.394652Z"
    },
    "papermill": {
     "duration": 0.12032,
     "end_time": "2024-06-20T20:59:53.399257",
     "exception": false,
     "start_time": "2024-06-20T20:59:53.278937",
     "status": "completed"
    },
    "tags": []
   },
   "outputs": [
    {
     "data": {
      "text/html": [
       "<div>\n",
       "<style scoped>\n",
       "    .dataframe tbody tr th:only-of-type {\n",
       "        vertical-align: middle;\n",
       "    }\n",
       "\n",
       "    .dataframe tbody tr th {\n",
       "        vertical-align: top;\n",
       "    }\n",
       "\n",
       "    .dataframe thead th {\n",
       "        text-align: right;\n",
       "    }\n",
       "</style>\n",
       "<table border=\"1\" class=\"dataframe\">\n",
       "  <thead>\n",
       "    <tr style=\"text-align: right;\">\n",
       "      <th></th>\n",
       "      <th>area_type</th>\n",
       "      <th>availability</th>\n",
       "      <th>location</th>\n",
       "      <th>size</th>\n",
       "      <th>society</th>\n",
       "      <th>total_sqft</th>\n",
       "      <th>bath</th>\n",
       "      <th>balcony</th>\n",
       "      <th>price</th>\n",
       "    </tr>\n",
       "  </thead>\n",
       "  <tbody>\n",
       "    <tr>\n",
       "      <th>0</th>\n",
       "      <td>Super built-up  Area</td>\n",
       "      <td>19-Dec</td>\n",
       "      <td>Electronic City Phase II</td>\n",
       "      <td>2 BHK</td>\n",
       "      <td>Coomee</td>\n",
       "      <td>1056</td>\n",
       "      <td>2.0</td>\n",
       "      <td>1.0</td>\n",
       "      <td>39.07</td>\n",
       "    </tr>\n",
       "    <tr>\n",
       "      <th>1</th>\n",
       "      <td>Plot  Area</td>\n",
       "      <td>Ready To Move</td>\n",
       "      <td>Chikka Tirupathi</td>\n",
       "      <td>4 Bedroom</td>\n",
       "      <td>Theanmp</td>\n",
       "      <td>2600</td>\n",
       "      <td>5.0</td>\n",
       "      <td>3.0</td>\n",
       "      <td>120.00</td>\n",
       "    </tr>\n",
       "    <tr>\n",
       "      <th>2</th>\n",
       "      <td>Built-up  Area</td>\n",
       "      <td>Ready To Move</td>\n",
       "      <td>Uttarahalli</td>\n",
       "      <td>3 BHK</td>\n",
       "      <td>NaN</td>\n",
       "      <td>1440</td>\n",
       "      <td>2.0</td>\n",
       "      <td>3.0</td>\n",
       "      <td>62.00</td>\n",
       "    </tr>\n",
       "    <tr>\n",
       "      <th>3</th>\n",
       "      <td>Super built-up  Area</td>\n",
       "      <td>Ready To Move</td>\n",
       "      <td>Lingadheeranahalli</td>\n",
       "      <td>3 BHK</td>\n",
       "      <td>Soiewre</td>\n",
       "      <td>1521</td>\n",
       "      <td>3.0</td>\n",
       "      <td>1.0</td>\n",
       "      <td>95.00</td>\n",
       "    </tr>\n",
       "    <tr>\n",
       "      <th>4</th>\n",
       "      <td>Super built-up  Area</td>\n",
       "      <td>Ready To Move</td>\n",
       "      <td>Kothanur</td>\n",
       "      <td>2 BHK</td>\n",
       "      <td>NaN</td>\n",
       "      <td>1200</td>\n",
       "      <td>2.0</td>\n",
       "      <td>1.0</td>\n",
       "      <td>51.00</td>\n",
       "    </tr>\n",
       "  </tbody>\n",
       "</table>\n",
       "</div>"
      ],
      "text/plain": [
       "              area_type   availability                  location       size  \\\n",
       "0  Super built-up  Area         19-Dec  Electronic City Phase II      2 BHK   \n",
       "1            Plot  Area  Ready To Move          Chikka Tirupathi  4 Bedroom   \n",
       "2        Built-up  Area  Ready To Move               Uttarahalli      3 BHK   \n",
       "3  Super built-up  Area  Ready To Move        Lingadheeranahalli      3 BHK   \n",
       "4  Super built-up  Area  Ready To Move                  Kothanur      2 BHK   \n",
       "\n",
       "   society total_sqft  bath  balcony   price  \n",
       "0  Coomee        1056   2.0      1.0   39.07  \n",
       "1  Theanmp       2600   5.0      3.0  120.00  \n",
       "2      NaN       1440   2.0      3.0   62.00  \n",
       "3  Soiewre       1521   3.0      1.0   95.00  \n",
       "4      NaN       1200   2.0      1.0   51.00  "
      ]
     },
     "execution_count": 2,
     "metadata": {},
     "output_type": "execute_result"
    }
   ],
   "source": [
    "df = pd.read_csv(\"/kaggle/input/bengaluru-house-price-data/Bengaluru_House_Data.csv\")\n",
    "df.head()"
   ]
  },
  {
   "cell_type": "code",
   "execution_count": 3,
   "id": "17815276",
   "metadata": {
    "execution": {
     "iopub.execute_input": "2024-06-20T20:59:53.434872Z",
     "iopub.status.busy": "2024-06-20T20:59:53.433955Z",
     "iopub.status.idle": "2024-06-20T20:59:53.442627Z",
     "shell.execute_reply": "2024-06-20T20:59:53.441136Z"
    },
    "papermill": {
     "duration": 0.029229,
     "end_time": "2024-06-20T20:59:53.445247",
     "exception": false,
     "start_time": "2024-06-20T20:59:53.416018",
     "status": "completed"
    },
    "tags": []
   },
   "outputs": [
    {
     "data": {
      "text/plain": [
       "(13320, 9)"
      ]
     },
     "execution_count": 3,
     "metadata": {},
     "output_type": "execute_result"
    }
   ],
   "source": [
    "df.shape"
   ]
  },
  {
   "cell_type": "markdown",
   "id": "9fd7788e",
   "metadata": {
    "papermill": {
     "duration": 0.016041,
     "end_time": "2024-06-20T20:59:53.477950",
     "exception": false,
     "start_time": "2024-06-20T20:59:53.461909",
     "status": "completed"
    },
    "tags": []
   },
   "source": [
    "## Data Preprocessing "
   ]
  },
  {
   "cell_type": "markdown",
   "id": "55d7fbe8",
   "metadata": {
    "papermill": {
     "duration": 0.016638,
     "end_time": "2024-06-20T20:59:53.510648",
     "exception": false,
     "start_time": "2024-06-20T20:59:53.494010",
     "status": "completed"
    },
    "tags": []
   },
   "source": [
    "Lets start by Data Cleaning. We will remove features to simplify the model"
   ]
  },
  {
   "cell_type": "code",
   "execution_count": 4,
   "id": "18221af6",
   "metadata": {
    "execution": {
     "iopub.execute_input": "2024-06-20T20:59:53.546242Z",
     "iopub.status.busy": "2024-06-20T20:59:53.545764Z",
     "iopub.status.idle": "2024-06-20T20:59:53.572867Z",
     "shell.execute_reply": "2024-06-20T20:59:53.571347Z"
    },
    "papermill": {
     "duration": 0.04933,
     "end_time": "2024-06-20T20:59:53.576059",
     "exception": false,
     "start_time": "2024-06-20T20:59:53.526729",
     "status": "completed"
    },
    "tags": []
   },
   "outputs": [
    {
     "name": "stdout",
     "output_type": "stream",
     "text": [
      "              area_type  min_price  max_price\n",
      "0        Built-up  Area       9.00     2050.0\n",
      "1          Carpet  Area      13.00      500.0\n",
      "2            Plot  Area       8.44     3600.0\n",
      "3  Super built-up  Area       8.00     2912.0\n"
     ]
    }
   ],
   "source": [
    "grouped_df = df.groupby(['area_type'])['price'].agg(min_price='min', max_price='max').reset_index()\n",
    "\n",
    "print(grouped_df)"
   ]
  },
  {
   "cell_type": "markdown",
   "id": "7f04f760",
   "metadata": {
    "papermill": {
     "duration": 0.016277,
     "end_time": "2024-06-20T20:59:53.609055",
     "exception": false,
     "start_time": "2024-06-20T20:59:53.592778",
     "status": "completed"
    },
    "tags": []
   },
   "source": [
    " Since the min and max range is quite far we can drop the area_type column"
   ]
  },
  {
   "cell_type": "code",
   "execution_count": 5,
   "id": "4ca57ec9",
   "metadata": {
    "execution": {
     "iopub.execute_input": "2024-06-20T20:59:53.644733Z",
     "iopub.status.busy": "2024-06-20T20:59:53.643231Z",
     "iopub.status.idle": "2024-06-20T20:59:53.666433Z",
     "shell.execute_reply": "2024-06-20T20:59:53.665197Z"
    },
    "papermill": {
     "duration": 0.0439,
     "end_time": "2024-06-20T20:59:53.669225",
     "exception": false,
     "start_time": "2024-06-20T20:59:53.625325",
     "status": "completed"
    },
    "tags": []
   },
   "outputs": [
    {
     "data": {
      "text/html": [
       "<div>\n",
       "<style scoped>\n",
       "    .dataframe tbody tr th:only-of-type {\n",
       "        vertical-align: middle;\n",
       "    }\n",
       "\n",
       "    .dataframe tbody tr th {\n",
       "        vertical-align: top;\n",
       "    }\n",
       "\n",
       "    .dataframe thead th {\n",
       "        text-align: right;\n",
       "    }\n",
       "</style>\n",
       "<table border=\"1\" class=\"dataframe\">\n",
       "  <thead>\n",
       "    <tr style=\"text-align: right;\">\n",
       "      <th></th>\n",
       "      <th>availability</th>\n",
       "      <th>location</th>\n",
       "      <th>size</th>\n",
       "      <th>society</th>\n",
       "      <th>total_sqft</th>\n",
       "      <th>bath</th>\n",
       "      <th>balcony</th>\n",
       "      <th>price</th>\n",
       "    </tr>\n",
       "  </thead>\n",
       "  <tbody>\n",
       "    <tr>\n",
       "      <th>0</th>\n",
       "      <td>19-Dec</td>\n",
       "      <td>Electronic City Phase II</td>\n",
       "      <td>2 BHK</td>\n",
       "      <td>Coomee</td>\n",
       "      <td>1056</td>\n",
       "      <td>2.0</td>\n",
       "      <td>1.0</td>\n",
       "      <td>39.07</td>\n",
       "    </tr>\n",
       "    <tr>\n",
       "      <th>1</th>\n",
       "      <td>Ready To Move</td>\n",
       "      <td>Chikka Tirupathi</td>\n",
       "      <td>4 Bedroom</td>\n",
       "      <td>Theanmp</td>\n",
       "      <td>2600</td>\n",
       "      <td>5.0</td>\n",
       "      <td>3.0</td>\n",
       "      <td>120.00</td>\n",
       "    </tr>\n",
       "    <tr>\n",
       "      <th>2</th>\n",
       "      <td>Ready To Move</td>\n",
       "      <td>Uttarahalli</td>\n",
       "      <td>3 BHK</td>\n",
       "      <td>NaN</td>\n",
       "      <td>1440</td>\n",
       "      <td>2.0</td>\n",
       "      <td>3.0</td>\n",
       "      <td>62.00</td>\n",
       "    </tr>\n",
       "    <tr>\n",
       "      <th>3</th>\n",
       "      <td>Ready To Move</td>\n",
       "      <td>Lingadheeranahalli</td>\n",
       "      <td>3 BHK</td>\n",
       "      <td>Soiewre</td>\n",
       "      <td>1521</td>\n",
       "      <td>3.0</td>\n",
       "      <td>1.0</td>\n",
       "      <td>95.00</td>\n",
       "    </tr>\n",
       "    <tr>\n",
       "      <th>4</th>\n",
       "      <td>Ready To Move</td>\n",
       "      <td>Kothanur</td>\n",
       "      <td>2 BHK</td>\n",
       "      <td>NaN</td>\n",
       "      <td>1200</td>\n",
       "      <td>2.0</td>\n",
       "      <td>1.0</td>\n",
       "      <td>51.00</td>\n",
       "    </tr>\n",
       "  </tbody>\n",
       "</table>\n",
       "</div>"
      ],
      "text/plain": [
       "    availability                  location       size  society total_sqft  \\\n",
       "0         19-Dec  Electronic City Phase II      2 BHK  Coomee        1056   \n",
       "1  Ready To Move          Chikka Tirupathi  4 Bedroom  Theanmp       2600   \n",
       "2  Ready To Move               Uttarahalli      3 BHK      NaN       1440   \n",
       "3  Ready To Move        Lingadheeranahalli      3 BHK  Soiewre       1521   \n",
       "4  Ready To Move                  Kothanur      2 BHK      NaN       1200   \n",
       "\n",
       "   bath  balcony   price  \n",
       "0   2.0      1.0   39.07  \n",
       "1   5.0      3.0  120.00  \n",
       "2   2.0      3.0   62.00  \n",
       "3   3.0      1.0   95.00  \n",
       "4   2.0      1.0   51.00  "
      ]
     },
     "execution_count": 5,
     "metadata": {},
     "output_type": "execute_result"
    }
   ],
   "source": [
    "df.drop(['area_type'], axis=1, inplace=True)\n",
    "df.head()"
   ]
  },
  {
   "cell_type": "code",
   "execution_count": 6,
   "id": "1433ce99",
   "metadata": {
    "execution": {
     "iopub.execute_input": "2024-06-20T20:59:53.704326Z",
     "iopub.status.busy": "2024-06-20T20:59:53.703818Z",
     "iopub.status.idle": "2024-06-20T20:59:53.742534Z",
     "shell.execute_reply": "2024-06-20T20:59:53.740850Z"
    },
    "papermill": {
     "duration": 0.060211,
     "end_time": "2024-06-20T20:59:53.745884",
     "exception": false,
     "start_time": "2024-06-20T20:59:53.685673",
     "status": "completed"
    },
    "tags": []
   },
   "outputs": [
    {
     "name": "stdout",
     "output_type": "stream",
     "text": [
      "      society total_sqft  min_price  max_price  average_price\n",
      "57    AWharde       3198      200.0     250.00     225.000000\n",
      "99    Adeatlm       2180      170.0     240.00     196.666667\n",
      "100   Adeatlm       2275      175.0     187.00     181.800000\n",
      "106   Adeatlm       4000      578.0     600.00     589.000000\n",
      "107   Adeatlm       5400      700.0     750.00     725.000000\n",
      "...       ...        ...        ...        ...            ...\n",
      "5548  Vaniai        1045       58.0      76.77      70.513333\n",
      "5561  Vaodssh       3600      245.0     260.00     252.500000\n",
      "5572  Vapasrk       3035      220.0     271.00     245.500000\n",
      "5602  Veales        1250       72.0      85.00      78.500000\n",
      "5707  Wiowsri        950       40.0      57.00      47.333333\n",
      "\n",
      "[341 rows x 5 columns]\n"
     ]
    }
   ],
   "source": [
    "# Group by 'are_type' and calculate the list of prices and the mean price\n",
    "pd.reset_option('display.max_columns')\n",
    "pd.reset_option('display.max_rows')\n",
    "grouped_df = df.groupby(['society','total_sqft'])['price'].agg(min_price='min', max_price='max', average_price='mean').reset_index()\n",
    "\n",
    "filtered_grouped_df = grouped_df[(grouped_df['max_price'] - grouped_df['min_price']) > 10]\n",
    "\n",
    "print(filtered_grouped_df)\n"
   ]
  },
  {
   "cell_type": "markdown",
   "id": "1f9bf97e",
   "metadata": {
    "papermill": {
     "duration": 0.016662,
     "end_time": "2024-06-20T20:59:53.779594",
     "exception": false,
     "start_time": "2024-06-20T20:59:53.762932",
     "status": "completed"
    },
    "tags": []
   },
   "source": [
    "For the same society with same total_sqft the prices vary too much. Hence, we can drop society. Also, since we have location we can afford to get rid of society."
   ]
  },
  {
   "cell_type": "code",
   "execution_count": 7,
   "id": "5207da69",
   "metadata": {
    "execution": {
     "iopub.execute_input": "2024-06-20T20:59:53.815828Z",
     "iopub.status.busy": "2024-06-20T20:59:53.814570Z",
     "iopub.status.idle": "2024-06-20T20:59:53.834319Z",
     "shell.execute_reply": "2024-06-20T20:59:53.833199Z"
    },
    "papermill": {
     "duration": 0.040833,
     "end_time": "2024-06-20T20:59:53.836925",
     "exception": false,
     "start_time": "2024-06-20T20:59:53.796092",
     "status": "completed"
    },
    "tags": []
   },
   "outputs": [
    {
     "data": {
      "text/html": [
       "<div>\n",
       "<style scoped>\n",
       "    .dataframe tbody tr th:only-of-type {\n",
       "        vertical-align: middle;\n",
       "    }\n",
       "\n",
       "    .dataframe tbody tr th {\n",
       "        vertical-align: top;\n",
       "    }\n",
       "\n",
       "    .dataframe thead th {\n",
       "        text-align: right;\n",
       "    }\n",
       "</style>\n",
       "<table border=\"1\" class=\"dataframe\">\n",
       "  <thead>\n",
       "    <tr style=\"text-align: right;\">\n",
       "      <th></th>\n",
       "      <th>availability</th>\n",
       "      <th>location</th>\n",
       "      <th>size</th>\n",
       "      <th>total_sqft</th>\n",
       "      <th>bath</th>\n",
       "      <th>balcony</th>\n",
       "      <th>price</th>\n",
       "    </tr>\n",
       "  </thead>\n",
       "  <tbody>\n",
       "    <tr>\n",
       "      <th>0</th>\n",
       "      <td>19-Dec</td>\n",
       "      <td>Electronic City Phase II</td>\n",
       "      <td>2 BHK</td>\n",
       "      <td>1056</td>\n",
       "      <td>2.0</td>\n",
       "      <td>1.0</td>\n",
       "      <td>39.07</td>\n",
       "    </tr>\n",
       "    <tr>\n",
       "      <th>1</th>\n",
       "      <td>Ready To Move</td>\n",
       "      <td>Chikka Tirupathi</td>\n",
       "      <td>4 Bedroom</td>\n",
       "      <td>2600</td>\n",
       "      <td>5.0</td>\n",
       "      <td>3.0</td>\n",
       "      <td>120.00</td>\n",
       "    </tr>\n",
       "    <tr>\n",
       "      <th>2</th>\n",
       "      <td>Ready To Move</td>\n",
       "      <td>Uttarahalli</td>\n",
       "      <td>3 BHK</td>\n",
       "      <td>1440</td>\n",
       "      <td>2.0</td>\n",
       "      <td>3.0</td>\n",
       "      <td>62.00</td>\n",
       "    </tr>\n",
       "    <tr>\n",
       "      <th>3</th>\n",
       "      <td>Ready To Move</td>\n",
       "      <td>Lingadheeranahalli</td>\n",
       "      <td>3 BHK</td>\n",
       "      <td>1521</td>\n",
       "      <td>3.0</td>\n",
       "      <td>1.0</td>\n",
       "      <td>95.00</td>\n",
       "    </tr>\n",
       "    <tr>\n",
       "      <th>4</th>\n",
       "      <td>Ready To Move</td>\n",
       "      <td>Kothanur</td>\n",
       "      <td>2 BHK</td>\n",
       "      <td>1200</td>\n",
       "      <td>2.0</td>\n",
       "      <td>1.0</td>\n",
       "      <td>51.00</td>\n",
       "    </tr>\n",
       "  </tbody>\n",
       "</table>\n",
       "</div>"
      ],
      "text/plain": [
       "    availability                  location       size total_sqft  bath  \\\n",
       "0         19-Dec  Electronic City Phase II      2 BHK       1056   2.0   \n",
       "1  Ready To Move          Chikka Tirupathi  4 Bedroom       2600   5.0   \n",
       "2  Ready To Move               Uttarahalli      3 BHK       1440   2.0   \n",
       "3  Ready To Move        Lingadheeranahalli      3 BHK       1521   3.0   \n",
       "4  Ready To Move                  Kothanur      2 BHK       1200   2.0   \n",
       "\n",
       "   balcony   price  \n",
       "0      1.0   39.07  \n",
       "1      3.0  120.00  \n",
       "2      3.0   62.00  \n",
       "3      1.0   95.00  \n",
       "4      1.0   51.00  "
      ]
     },
     "execution_count": 7,
     "metadata": {},
     "output_type": "execute_result"
    }
   ],
   "source": [
    "df.drop(['society'], axis=1, inplace=True)\n",
    "df.head()"
   ]
  },
  {
   "cell_type": "code",
   "execution_count": 8,
   "id": "e4eeee42",
   "metadata": {
    "execution": {
     "iopub.execute_input": "2024-06-20T20:59:53.874195Z",
     "iopub.status.busy": "2024-06-20T20:59:53.872759Z",
     "iopub.status.idle": "2024-06-20T20:59:53.979341Z",
     "shell.execute_reply": "2024-06-20T20:59:53.978055Z"
    },
    "papermill": {
     "duration": 0.128212,
     "end_time": "2024-06-20T20:59:53.982085",
     "exception": false,
     "start_time": "2024-06-20T20:59:53.853873",
     "status": "completed"
    },
    "tags": []
   },
   "outputs": [
    {
     "name": "stdout",
     "output_type": "stream",
     "text": [
      "                     location availability              prices  prices_len\n",
      "3                 Bhoganhalli       19-Dec             [22.89]           1\n",
      "5         Devarachikkanahalli       18-May              [44.0]           1\n",
      "9                Rachenahalli       18-May              [19.8]           1\n",
      "10               Rachenahalli       20-Aug              [28.0]           1\n",
      "12                Thanisandra       18-Nov             [25.25]           1\n",
      "...                       ...          ...                 ...         ...\n",
      "2359             manyata park       18-Nov      [84.83, 61.99]           2\n",
      "2360        manyata tech park       18-Apr              [56.0]           1\n",
      "2361  mvj engineering college       18-Jul             [56.53]           1\n",
      "2372                 tc.palya       18-Apr  [62.0, 55.0, 78.0]           3\n",
      "2376               whitefiled       20-Dec             [32.73]           1\n",
      "\n",
      "[1174 rows x 4 columns]\n"
     ]
    }
   ],
   "source": [
    "# Group by 'are_type' and calculate the list of prices and the mean price\n",
    "grouped_df = df.groupby(['location','availability'])['price'].agg(prices=list).reset_index()\n",
    "grouped_df['prices_len'] = grouped_df['prices'].apply(lambda x: len(x))\n",
    "filtered_grouped_df = grouped_df[(grouped_df['availability'] ) != 'Ready To Move']\n",
    "# filtered_grouped_df = filtered_grouped_df[(filtered_grouped_df['prices_len'] ) > 1]\n",
    "print(filtered_grouped_df)\n"
   ]
  },
  {
   "cell_type": "markdown",
   "id": "2c88f5b3",
   "metadata": {
    "papermill": {
     "duration": 0.016804,
     "end_time": "2024-06-20T20:59:54.015780",
     "exception": false,
     "start_time": "2024-06-20T20:59:53.998976",
     "status": "completed"
    },
    "tags": []
   },
   "source": [
    "availablity has effect on the final price hence we will keep it"
   ]
  },
  {
   "cell_type": "markdown",
   "id": "99233b9b",
   "metadata": {
    "papermill": {
     "duration": 0.017039,
     "end_time": "2024-06-20T20:59:54.049958",
     "exception": false,
     "start_time": "2024-06-20T20:59:54.032919",
     "status": "completed"
    },
    "tags": []
   },
   "source": [
    "### Handling Missing Data"
   ]
  },
  {
   "cell_type": "code",
   "execution_count": 9,
   "id": "e0c7d276",
   "metadata": {
    "execution": {
     "iopub.execute_input": "2024-06-20T20:59:54.088672Z",
     "iopub.status.busy": "2024-06-20T20:59:54.087651Z",
     "iopub.status.idle": "2024-06-20T20:59:54.104794Z",
     "shell.execute_reply": "2024-06-20T20:59:54.103640Z"
    },
    "papermill": {
     "duration": 0.038716,
     "end_time": "2024-06-20T20:59:54.107495",
     "exception": false,
     "start_time": "2024-06-20T20:59:54.068779",
     "status": "completed"
    },
    "tags": []
   },
   "outputs": [
    {
     "data": {
      "text/plain": [
       "availability      0\n",
       "location          1\n",
       "size             16\n",
       "total_sqft        0\n",
       "bath             73\n",
       "balcony         609\n",
       "price             0\n",
       "dtype: int64"
      ]
     },
     "execution_count": 9,
     "metadata": {},
     "output_type": "execute_result"
    }
   ],
   "source": [
    "df.isnull().sum()"
   ]
  },
  {
   "cell_type": "code",
   "execution_count": 10,
   "id": "9cafdb1d",
   "metadata": {
    "execution": {
     "iopub.execute_input": "2024-06-20T20:59:54.144755Z",
     "iopub.status.busy": "2024-06-20T20:59:54.143884Z",
     "iopub.status.idle": "2024-06-20T20:59:54.159205Z",
     "shell.execute_reply": "2024-06-20T20:59:54.158029Z"
    },
    "papermill": {
     "duration": 0.037378,
     "end_time": "2024-06-20T20:59:54.162154",
     "exception": false,
     "start_time": "2024-06-20T20:59:54.124776",
     "status": "completed"
    },
    "tags": []
   },
   "outputs": [],
   "source": [
    "df = df.dropna()"
   ]
  },
  {
   "cell_type": "code",
   "execution_count": 11,
   "id": "c572b498",
   "metadata": {
    "execution": {
     "iopub.execute_input": "2024-06-20T20:59:54.199488Z",
     "iopub.status.busy": "2024-06-20T20:59:54.198664Z",
     "iopub.status.idle": "2024-06-20T20:59:54.215498Z",
     "shell.execute_reply": "2024-06-20T20:59:54.214163Z"
    },
    "papermill": {
     "duration": 0.038317,
     "end_time": "2024-06-20T20:59:54.218204",
     "exception": false,
     "start_time": "2024-06-20T20:59:54.179887",
     "status": "completed"
    },
    "tags": []
   },
   "outputs": [
    {
     "data": {
      "text/plain": [
       "availability    0\n",
       "location        0\n",
       "size            0\n",
       "total_sqft      0\n",
       "bath            0\n",
       "balcony         0\n",
       "price           0\n",
       "dtype: int64"
      ]
     },
     "execution_count": 11,
     "metadata": {},
     "output_type": "execute_result"
    }
   ],
   "source": [
    "df.isnull().sum()"
   ]
  },
  {
   "cell_type": "code",
   "execution_count": 12,
   "id": "6e75d5a2",
   "metadata": {
    "execution": {
     "iopub.execute_input": "2024-06-20T20:59:54.255323Z",
     "iopub.status.busy": "2024-06-20T20:59:54.254724Z",
     "iopub.status.idle": "2024-06-20T20:59:54.261820Z",
     "shell.execute_reply": "2024-06-20T20:59:54.260378Z"
    },
    "papermill": {
     "duration": 0.028441,
     "end_time": "2024-06-20T20:59:54.264229",
     "exception": false,
     "start_time": "2024-06-20T20:59:54.235788",
     "status": "completed"
    },
    "tags": []
   },
   "outputs": [],
   "source": [
    "# rows_with_na = df[df['size'].isna()]\n",
    "# rows_with_na['indexes'] = df[df['size'].isna()].index\n",
    "# merged_df = pd.merge(rows_with_na, df, on=['location', 'total_sqft'], suffixes=('_left', '_right'))\n",
    "\n",
    "# # Fill NaN values in 'size' column with either 'size_left' or 'size_right'\n",
    "# merged_df['size'] = merged_df['size_left'].fillna(merged_df['size_right'])\n",
    "# merged_df['bath'] = merged_df['bath_left'].fillna(merged_df['bath_right'])\n",
    "# merged_df['balcony'] = merged_df['balcony_left'].fillna(merged_df['balcony_right'])\n",
    "\n",
    "# # Drop unnecessary columns\n",
    "# suffixes_to_drop = ['_left', '_right']\n",
    "# merged_df = merged_df.drop([col + suffix for col in ['size', 'bath', 'balcony','availability','price'] for suffix in suffixes_to_drop], axis=1)\n",
    "# print(merged_df)\n",
    "\n",
    "# # Display the merged DataFrame with filled NaN values\n",
    "# for index, i in merged_df.iterrows():\n",
    "#     print(i)\n",
    "#     print(df[(df['location']==i.location)  & ( (df['total_sqft'] > i.total_sqft-100) & (df['total_sqft'] < i.total_sqft+100))])\n",
    "# # df[(df['location']=='IVC Road')  & ( (df['total_sqft'] > 3800) & (df['total_sqft'] < 3900))]\n",
    "# df.loc[merged_df.indexes.tolist(), ['size', 'bath', 'balcony']] = merged_df[['size', 'bath', 'balcony']].values\n",
    "\n",
    "# df.head()"
   ]
  },
  {
   "cell_type": "markdown",
   "id": "23abdd10",
   "metadata": {
    "papermill": {
     "duration": 0.016816,
     "end_time": "2024-06-20T20:59:54.298284",
     "exception": false,
     "start_time": "2024-06-20T20:59:54.281468",
     "status": "completed"
    },
    "tags": []
   },
   "source": [
    "### Data Transformation\n",
    "\n",
    "Since the total_sqft column has str values we need to transform them into floating point numbers"
   ]
  },
  {
   "cell_type": "code",
   "execution_count": 13,
   "id": "ac0c1ec7",
   "metadata": {
    "execution": {
     "iopub.execute_input": "2024-06-20T20:59:54.336419Z",
     "iopub.status.busy": "2024-06-20T20:59:54.335133Z",
     "iopub.status.idle": "2024-06-20T20:59:54.382635Z",
     "shell.execute_reply": "2024-06-20T20:59:54.381418Z"
    },
    "papermill": {
     "duration": 0.069663,
     "end_time": "2024-06-20T20:59:54.385336",
     "exception": false,
     "start_time": "2024-06-20T20:59:54.315673",
     "status": "completed"
    },
    "tags": []
   },
   "outputs": [
    {
     "data": {
      "text/html": [
       "<div>\n",
       "<style scoped>\n",
       "    .dataframe tbody tr th:only-of-type {\n",
       "        vertical-align: middle;\n",
       "    }\n",
       "\n",
       "    .dataframe tbody tr th {\n",
       "        vertical-align: top;\n",
       "    }\n",
       "\n",
       "    .dataframe thead th {\n",
       "        text-align: right;\n",
       "    }\n",
       "</style>\n",
       "<table border=\"1\" class=\"dataframe\">\n",
       "  <thead>\n",
       "    <tr style=\"text-align: right;\">\n",
       "      <th></th>\n",
       "      <th>availability</th>\n",
       "      <th>location</th>\n",
       "      <th>size</th>\n",
       "      <th>total_sqft</th>\n",
       "      <th>bath</th>\n",
       "      <th>balcony</th>\n",
       "      <th>price</th>\n",
       "    </tr>\n",
       "  </thead>\n",
       "  <tbody>\n",
       "    <tr>\n",
       "      <th>0</th>\n",
       "      <td>19-Dec</td>\n",
       "      <td>Electronic City Phase II</td>\n",
       "      <td>2 BHK</td>\n",
       "      <td>1056.0</td>\n",
       "      <td>2.0</td>\n",
       "      <td>1.0</td>\n",
       "      <td>39.07</td>\n",
       "    </tr>\n",
       "    <tr>\n",
       "      <th>1</th>\n",
       "      <td>Ready To Move</td>\n",
       "      <td>Chikka Tirupathi</td>\n",
       "      <td>4 Bedroom</td>\n",
       "      <td>2600.0</td>\n",
       "      <td>5.0</td>\n",
       "      <td>3.0</td>\n",
       "      <td>120.00</td>\n",
       "    </tr>\n",
       "    <tr>\n",
       "      <th>2</th>\n",
       "      <td>Ready To Move</td>\n",
       "      <td>Uttarahalli</td>\n",
       "      <td>3 BHK</td>\n",
       "      <td>1440.0</td>\n",
       "      <td>2.0</td>\n",
       "      <td>3.0</td>\n",
       "      <td>62.00</td>\n",
       "    </tr>\n",
       "    <tr>\n",
       "      <th>3</th>\n",
       "      <td>Ready To Move</td>\n",
       "      <td>Lingadheeranahalli</td>\n",
       "      <td>3 BHK</td>\n",
       "      <td>1521.0</td>\n",
       "      <td>3.0</td>\n",
       "      <td>1.0</td>\n",
       "      <td>95.00</td>\n",
       "    </tr>\n",
       "    <tr>\n",
       "      <th>4</th>\n",
       "      <td>Ready To Move</td>\n",
       "      <td>Kothanur</td>\n",
       "      <td>2 BHK</td>\n",
       "      <td>1200.0</td>\n",
       "      <td>2.0</td>\n",
       "      <td>1.0</td>\n",
       "      <td>51.00</td>\n",
       "    </tr>\n",
       "  </tbody>\n",
       "</table>\n",
       "</div>"
      ],
      "text/plain": [
       "    availability                  location       size  total_sqft  bath  \\\n",
       "0         19-Dec  Electronic City Phase II      2 BHK      1056.0   2.0   \n",
       "1  Ready To Move          Chikka Tirupathi  4 Bedroom      2600.0   5.0   \n",
       "2  Ready To Move               Uttarahalli      3 BHK      1440.0   2.0   \n",
       "3  Ready To Move        Lingadheeranahalli      3 BHK      1521.0   3.0   \n",
       "4  Ready To Move                  Kothanur      2 BHK      1200.0   2.0   \n",
       "\n",
       "   balcony   price  \n",
       "0      1.0   39.07  \n",
       "1      3.0  120.00  \n",
       "2      3.0   62.00  \n",
       "3      1.0   95.00  \n",
       "4      1.0   51.00  "
      ]
     },
     "execution_count": 13,
     "metadata": {},
     "output_type": "execute_result"
    }
   ],
   "source": [
    "def convert_sqft_to_num(x):\n",
    "    if pd.isna(x):\n",
    "        return np.nan\n",
    "    if '-' in x:\n",
    "        parts = x.split('-')\n",
    "        return (float(parts[0]) + float(parts[1])) / 2\n",
    "    try:\n",
    "        return float(x)\n",
    "    except ValueError:\n",
    "        y = re.match(r'\\d+', x)\n",
    "        y = float(y.group())\n",
    "        if 'Sq. Meter' in x:\n",
    "            return y * 10.7639\n",
    "        if 'Sq. Yards' in x:\n",
    "            return y * 9\n",
    "        if 'Guntha' in x:\n",
    "            return y * 1089\n",
    "        if 'Cents' in x:\n",
    "            return y * 435.6\n",
    "        if 'Grounds' in x:\n",
    "            return y * 2400\n",
    "        if 'Perch' in x:\n",
    "            return y * 272.25\n",
    "        return np.nan\n",
    "\n",
    "# Apply the function to the total_sqft column\n",
    "df['total_sqft'] = df['total_sqft'].apply(convert_sqft_to_num)\n",
    "\n",
    "# Display the DataFrame\n",
    "df.head()"
   ]
  },
  {
   "cell_type": "code",
   "execution_count": 14,
   "id": "c8f4496e",
   "metadata": {
    "execution": {
     "iopub.execute_input": "2024-06-20T20:59:54.422612Z",
     "iopub.status.busy": "2024-06-20T20:59:54.422100Z",
     "iopub.status.idle": "2024-06-20T20:59:54.442034Z",
     "shell.execute_reply": "2024-06-20T20:59:54.440748Z"
    },
    "papermill": {
     "duration": 0.042012,
     "end_time": "2024-06-20T20:59:54.444858",
     "exception": false,
     "start_time": "2024-06-20T20:59:54.402846",
     "status": "completed"
    },
    "tags": []
   },
   "outputs": [
    {
     "data": {
      "text/plain": [
       "count     12702.000000\n",
       "mean       1577.113001\n",
       "std        5928.892913\n",
       "min           5.000000\n",
       "25%        1100.000000\n",
       "50%        1260.000000\n",
       "75%        1640.000000\n",
       "max      653400.000000\n",
       "Name: total_sqft, dtype: float64"
      ]
     },
     "execution_count": 14,
     "metadata": {},
     "output_type": "execute_result"
    }
   ],
   "source": [
    "df['total_sqft'].describe()"
   ]
  },
  {
   "cell_type": "markdown",
   "id": "1c2917a2",
   "metadata": {
    "papermill": {
     "duration": 0.017842,
     "end_time": "2024-06-20T20:59:54.480406",
     "exception": false,
     "start_time": "2024-06-20T20:59:54.462564",
     "status": "completed"
    },
    "tags": []
   },
   "source": [
    "### Handling Categorical Data\n",
    "\n",
    "We need to change the size from categorical to numerical "
   ]
  },
  {
   "cell_type": "code",
   "execution_count": 15,
   "id": "0dfb1938",
   "metadata": {
    "execution": {
     "iopub.execute_input": "2024-06-20T20:59:54.518131Z",
     "iopub.status.busy": "2024-06-20T20:59:54.517650Z",
     "iopub.status.idle": "2024-06-20T20:59:54.527686Z",
     "shell.execute_reply": "2024-06-20T20:59:54.526442Z"
    },
    "papermill": {
     "duration": 0.032499,
     "end_time": "2024-06-20T20:59:54.530675",
     "exception": false,
     "start_time": "2024-06-20T20:59:54.498176",
     "status": "completed"
    },
    "tags": []
   },
   "outputs": [
    {
     "data": {
      "text/plain": [
       "array(['2 BHK', '4 Bedroom', '3 BHK', '3 Bedroom', '1 BHK', '1 RK',\n",
       "       '4 BHK', '1 Bedroom', '2 Bedroom', '6 Bedroom', '8 Bedroom',\n",
       "       '7 Bedroom', '5 BHK', '7 BHK', '6 BHK', '5 Bedroom', '11 BHK',\n",
       "       '9 BHK', '9 Bedroom', '27 BHK', '11 Bedroom', '43 Bedroom',\n",
       "       '14 BHK', '8 BHK', '12 Bedroom', '10 Bedroom', '13 BHK'],\n",
       "      dtype=object)"
      ]
     },
     "execution_count": 15,
     "metadata": {},
     "output_type": "execute_result"
    }
   ],
   "source": [
    "df['size'].unique()"
   ]
  },
  {
   "cell_type": "code",
   "execution_count": 16,
   "id": "f4cf7863",
   "metadata": {
    "execution": {
     "iopub.execute_input": "2024-06-20T20:59:54.666830Z",
     "iopub.status.busy": "2024-06-20T20:59:54.665762Z",
     "iopub.status.idle": "2024-06-20T20:59:54.704989Z",
     "shell.execute_reply": "2024-06-20T20:59:54.703049Z"
    },
    "papermill": {
     "duration": 0.062825,
     "end_time": "2024-06-20T20:59:54.707733",
     "exception": false,
     "start_time": "2024-06-20T20:59:54.644908",
     "status": "completed"
    },
    "tags": []
   },
   "outputs": [
    {
     "data": {
      "text/html": [
       "<div>\n",
       "<style scoped>\n",
       "    .dataframe tbody tr th:only-of-type {\n",
       "        vertical-align: middle;\n",
       "    }\n",
       "\n",
       "    .dataframe tbody tr th {\n",
       "        vertical-align: top;\n",
       "    }\n",
       "\n",
       "    .dataframe thead th {\n",
       "        text-align: right;\n",
       "    }\n",
       "</style>\n",
       "<table border=\"1\" class=\"dataframe\">\n",
       "  <thead>\n",
       "    <tr style=\"text-align: right;\">\n",
       "      <th></th>\n",
       "      <th>availability</th>\n",
       "      <th>location</th>\n",
       "      <th>total_sqft</th>\n",
       "      <th>bath</th>\n",
       "      <th>balcony</th>\n",
       "      <th>price</th>\n",
       "      <th>bhk</th>\n",
       "    </tr>\n",
       "  </thead>\n",
       "  <tbody>\n",
       "    <tr>\n",
       "      <th>0</th>\n",
       "      <td>19-Dec</td>\n",
       "      <td>Electronic City Phase II</td>\n",
       "      <td>1056.0</td>\n",
       "      <td>2.0</td>\n",
       "      <td>1.0</td>\n",
       "      <td>39.07</td>\n",
       "      <td>2</td>\n",
       "    </tr>\n",
       "    <tr>\n",
       "      <th>1</th>\n",
       "      <td>Ready To Move</td>\n",
       "      <td>Chikka Tirupathi</td>\n",
       "      <td>2600.0</td>\n",
       "      <td>5.0</td>\n",
       "      <td>3.0</td>\n",
       "      <td>120.00</td>\n",
       "      <td>4</td>\n",
       "    </tr>\n",
       "    <tr>\n",
       "      <th>2</th>\n",
       "      <td>Ready To Move</td>\n",
       "      <td>Uttarahalli</td>\n",
       "      <td>1440.0</td>\n",
       "      <td>2.0</td>\n",
       "      <td>3.0</td>\n",
       "      <td>62.00</td>\n",
       "      <td>3</td>\n",
       "    </tr>\n",
       "    <tr>\n",
       "      <th>3</th>\n",
       "      <td>Ready To Move</td>\n",
       "      <td>Lingadheeranahalli</td>\n",
       "      <td>1521.0</td>\n",
       "      <td>3.0</td>\n",
       "      <td>1.0</td>\n",
       "      <td>95.00</td>\n",
       "      <td>3</td>\n",
       "    </tr>\n",
       "    <tr>\n",
       "      <th>4</th>\n",
       "      <td>Ready To Move</td>\n",
       "      <td>Kothanur</td>\n",
       "      <td>1200.0</td>\n",
       "      <td>2.0</td>\n",
       "      <td>1.0</td>\n",
       "      <td>51.00</td>\n",
       "      <td>2</td>\n",
       "    </tr>\n",
       "  </tbody>\n",
       "</table>\n",
       "</div>"
      ],
      "text/plain": [
       "    availability                  location  total_sqft  bath  balcony   price  \\\n",
       "0         19-Dec  Electronic City Phase II      1056.0   2.0      1.0   39.07   \n",
       "1  Ready To Move          Chikka Tirupathi      2600.0   5.0      3.0  120.00   \n",
       "2  Ready To Move               Uttarahalli      1440.0   2.0      3.0   62.00   \n",
       "3  Ready To Move        Lingadheeranahalli      1521.0   3.0      1.0   95.00   \n",
       "4  Ready To Move                  Kothanur      1200.0   2.0      1.0   51.00   \n",
       "\n",
       "   bhk  \n",
       "0    2  \n",
       "1    4  \n",
       "2    3  \n",
       "3    3  \n",
       "4    2  "
      ]
     },
     "execution_count": 16,
     "metadata": {},
     "output_type": "execute_result"
    }
   ],
   "source": [
    "df['bhk'] = df['size'].apply(lambda x: int(x.split(' ')[0]))\n",
    "df.drop(['size'], axis=1, inplace=True)\n",
    "df.head()"
   ]
  },
  {
   "cell_type": "code",
   "execution_count": 17,
   "id": "1ceab47b",
   "metadata": {
    "execution": {
     "iopub.execute_input": "2024-06-20T20:59:54.748542Z",
     "iopub.status.busy": "2024-06-20T20:59:54.747988Z",
     "iopub.status.idle": "2024-06-20T20:59:54.763258Z",
     "shell.execute_reply": "2024-06-20T20:59:54.761885Z"
    },
    "papermill": {
     "duration": 0.039126,
     "end_time": "2024-06-20T20:59:54.765980",
     "exception": false,
     "start_time": "2024-06-20T20:59:54.726854",
     "status": "completed"
    },
    "tags": []
   },
   "outputs": [
    {
     "data": {
      "text/plain": [
       "availability    0\n",
       "location        0\n",
       "total_sqft      8\n",
       "bath            0\n",
       "balcony         0\n",
       "price           0\n",
       "bhk             0\n",
       "dtype: int64"
      ]
     },
     "execution_count": 17,
     "metadata": {},
     "output_type": "execute_result"
    }
   ],
   "source": [
    "df.isnull().sum()"
   ]
  },
  {
   "cell_type": "markdown",
   "id": "a62b6c12",
   "metadata": {
    "papermill": {
     "duration": 0.018224,
     "end_time": "2024-06-20T20:59:54.802700",
     "exception": false,
     "start_time": "2024-06-20T20:59:54.784476",
     "status": "completed"
    },
    "tags": []
   },
   "source": [
    "### Feature Engineering \n",
    "\n",
    "Dimentionality Reduction - Since there are a lot of diff locations lets group some of them "
   ]
  },
  {
   "cell_type": "code",
   "execution_count": 18,
   "id": "5e0da199",
   "metadata": {
    "execution": {
     "iopub.execute_input": "2024-06-20T20:59:54.842769Z",
     "iopub.status.busy": "2024-06-20T20:59:54.842248Z",
     "iopub.status.idle": "2024-06-20T20:59:54.873013Z",
     "shell.execute_reply": "2024-06-20T20:59:54.871803Z"
    },
    "papermill": {
     "duration": 0.054707,
     "end_time": "2024-06-20T20:59:54.875731",
     "exception": false,
     "start_time": "2024-06-20T20:59:54.821024",
     "status": "completed"
    },
    "tags": []
   },
   "outputs": [
    {
     "name": "stdout",
     "output_type": "stream",
     "text": [
      "Unique Locations Before changing case =  1265\n",
      "Unique Locations After changing case =  1256\n"
     ]
    },
    {
     "data": {
      "text/plain": [
       "location\n",
       "whitefield         514\n",
       "sarjapur  road     372\n",
       "electronic city    300\n",
       "kanakpura road     261\n",
       "thanisandra        231\n",
       "                  ... \n",
       "junnasandra          1\n",
       "k r c kothanur       1\n",
       "kadarenahalli        1\n",
       "kadubisnahalli       1\n",
       "zuzuvadi             1\n",
       "Name: location, Length: 1256, dtype: int64"
      ]
     },
     "execution_count": 18,
     "metadata": {},
     "output_type": "execute_result"
    }
   ],
   "source": [
    "print('Unique Locations Before changing case = ', len(df['location'].unique()))\n",
    "df['location'] = df['location'].str.lower()\n",
    "print('Unique Locations After changing case = ', len(df['location'].unique()))\n",
    "df_location_stats = df.groupby(['location'])['location'].agg('count')\n",
    "df_location_stats.sort_values(ascending=False)"
   ]
  },
  {
   "cell_type": "code",
   "execution_count": 19,
   "id": "2549fd01",
   "metadata": {
    "execution": {
     "iopub.execute_input": "2024-06-20T20:59:54.916740Z",
     "iopub.status.busy": "2024-06-20T20:59:54.915577Z",
     "iopub.status.idle": "2024-06-20T20:59:54.972516Z",
     "shell.execute_reply": "2024-06-20T20:59:54.970992Z"
    },
    "papermill": {
     "duration": 0.080614,
     "end_time": "2024-06-20T20:59:54.975238",
     "exception": false,
     "start_time": "2024-06-20T20:59:54.894624",
     "status": "completed"
    },
    "tags": []
   },
   "outputs": [
    {
     "name": "stdout",
     "output_type": "stream",
     "text": [
      "Locations to be grouped =  1019\n",
      "Unique Locations finally = 238\n"
     ]
    }
   ],
   "source": [
    "df_locations_less_than_10 = df_location_stats[df_location_stats<=10]\n",
    "print('Locations to be grouped = ',len(df_locations_less_than_10))\n",
    "\n",
    "df['location']=df['location'].apply(lambda x: 'other' if x in df_locations_less_than_10 else x)\n",
    "print('Unique Locations finally =', len(df['location'].unique()))"
   ]
  },
  {
   "cell_type": "markdown",
   "id": "a6411d14",
   "metadata": {
    "papermill": {
     "duration": 0.018967,
     "end_time": "2024-06-20T20:59:55.013244",
     "exception": false,
     "start_time": "2024-06-20T20:59:54.994277",
     "status": "completed"
    },
    "tags": []
   },
   "source": [
    "Lets make a new column for price per sqft"
   ]
  },
  {
   "cell_type": "code",
   "execution_count": 20,
   "id": "72d692b3",
   "metadata": {
    "execution": {
     "iopub.execute_input": "2024-06-20T20:59:55.064942Z",
     "iopub.status.busy": "2024-06-20T20:59:55.063583Z",
     "iopub.status.idle": "2024-06-20T20:59:55.090775Z",
     "shell.execute_reply": "2024-06-20T20:59:55.089327Z"
    },
    "papermill": {
     "duration": 0.057288,
     "end_time": "2024-06-20T20:59:55.093589",
     "exception": false,
     "start_time": "2024-06-20T20:59:55.036301",
     "status": "completed"
    },
    "tags": []
   },
   "outputs": [
    {
     "data": {
      "text/html": [
       "<div>\n",
       "<style scoped>\n",
       "    .dataframe tbody tr th:only-of-type {\n",
       "        vertical-align: middle;\n",
       "    }\n",
       "\n",
       "    .dataframe tbody tr th {\n",
       "        vertical-align: top;\n",
       "    }\n",
       "\n",
       "    .dataframe thead th {\n",
       "        text-align: right;\n",
       "    }\n",
       "</style>\n",
       "<table border=\"1\" class=\"dataframe\">\n",
       "  <thead>\n",
       "    <tr style=\"text-align: right;\">\n",
       "      <th></th>\n",
       "      <th>availability</th>\n",
       "      <th>location</th>\n",
       "      <th>total_sqft</th>\n",
       "      <th>bath</th>\n",
       "      <th>balcony</th>\n",
       "      <th>price</th>\n",
       "      <th>bhk</th>\n",
       "      <th>price_per_sqft</th>\n",
       "    </tr>\n",
       "  </thead>\n",
       "  <tbody>\n",
       "    <tr>\n",
       "      <th>0</th>\n",
       "      <td>19-Dec</td>\n",
       "      <td>electronic city phase ii</td>\n",
       "      <td>1056.0</td>\n",
       "      <td>2.0</td>\n",
       "      <td>1.0</td>\n",
       "      <td>39.07</td>\n",
       "      <td>2</td>\n",
       "      <td>3699.810606</td>\n",
       "    </tr>\n",
       "    <tr>\n",
       "      <th>1</th>\n",
       "      <td>Ready To Move</td>\n",
       "      <td>chikka tirupathi</td>\n",
       "      <td>2600.0</td>\n",
       "      <td>5.0</td>\n",
       "      <td>3.0</td>\n",
       "      <td>120.00</td>\n",
       "      <td>4</td>\n",
       "      <td>4615.384615</td>\n",
       "    </tr>\n",
       "    <tr>\n",
       "      <th>2</th>\n",
       "      <td>Ready To Move</td>\n",
       "      <td>uttarahalli</td>\n",
       "      <td>1440.0</td>\n",
       "      <td>2.0</td>\n",
       "      <td>3.0</td>\n",
       "      <td>62.00</td>\n",
       "      <td>3</td>\n",
       "      <td>4305.555556</td>\n",
       "    </tr>\n",
       "    <tr>\n",
       "      <th>3</th>\n",
       "      <td>Ready To Move</td>\n",
       "      <td>lingadheeranahalli</td>\n",
       "      <td>1521.0</td>\n",
       "      <td>3.0</td>\n",
       "      <td>1.0</td>\n",
       "      <td>95.00</td>\n",
       "      <td>3</td>\n",
       "      <td>6245.890861</td>\n",
       "    </tr>\n",
       "    <tr>\n",
       "      <th>4</th>\n",
       "      <td>Ready To Move</td>\n",
       "      <td>kothanur</td>\n",
       "      <td>1200.0</td>\n",
       "      <td>2.0</td>\n",
       "      <td>1.0</td>\n",
       "      <td>51.00</td>\n",
       "      <td>2</td>\n",
       "      <td>4250.000000</td>\n",
       "    </tr>\n",
       "  </tbody>\n",
       "</table>\n",
       "</div>"
      ],
      "text/plain": [
       "    availability                  location  total_sqft  bath  balcony   price  \\\n",
       "0         19-Dec  electronic city phase ii      1056.0   2.0      1.0   39.07   \n",
       "1  Ready To Move          chikka tirupathi      2600.0   5.0      3.0  120.00   \n",
       "2  Ready To Move               uttarahalli      1440.0   2.0      3.0   62.00   \n",
       "3  Ready To Move        lingadheeranahalli      1521.0   3.0      1.0   95.00   \n",
       "4  Ready To Move                  kothanur      1200.0   2.0      1.0   51.00   \n",
       "\n",
       "   bhk  price_per_sqft  \n",
       "0    2     3699.810606  \n",
       "1    4     4615.384615  \n",
       "2    3     4305.555556  \n",
       "3    3     6245.890861  \n",
       "4    2     4250.000000  "
      ]
     },
     "execution_count": 20,
     "metadata": {},
     "output_type": "execute_result"
    }
   ],
   "source": [
    "df['price_per_sqft']=df['price']*100000/df['total_sqft']\n",
    "df.head()"
   ]
  },
  {
   "cell_type": "markdown",
   "id": "861ceaed",
   "metadata": {
    "papermill": {
     "duration": 0.019847,
     "end_time": "2024-06-20T20:59:55.133007",
     "exception": false,
     "start_time": "2024-06-20T20:59:55.113160",
     "status": "completed"
    },
    "tags": []
   },
   "source": [
    "### Outlier Removal\n",
    "\n",
    "We can assume that a bedroom is of 200sqft at the very least, so we should remove those entries where the room sizes are too small"
   ]
  },
  {
   "cell_type": "code",
   "execution_count": 21,
   "id": "63bd05bf",
   "metadata": {
    "execution": {
     "iopub.execute_input": "2024-06-20T20:59:55.177207Z",
     "iopub.status.busy": "2024-06-20T20:59:55.175886Z",
     "iopub.status.idle": "2024-06-20T20:59:55.192791Z",
     "shell.execute_reply": "2024-06-20T20:59:55.190434Z"
    },
    "papermill": {
     "duration": 0.043837,
     "end_time": "2024-06-20T20:59:55.196273",
     "exception": false,
     "start_time": "2024-06-20T20:59:55.152436",
     "status": "completed"
    },
    "tags": []
   },
   "outputs": [
    {
     "name": "stdout",
     "output_type": "stream",
     "text": [
      "Total rows = (12710, 8)\n",
      "Outliers to be removed = (284, 8)\n",
      "Total rows = (12426, 8)\n"
     ]
    }
   ],
   "source": [
    "print('Total rows =',df.shape)\n",
    "print('Outliers to be removed =',df[df['total_sqft']/df['bhk']<200].shape)\n",
    "\n",
    "df = df[~(df['total_sqft']/df['bhk']<200)]\n",
    "print('Total rows =',df.shape)"
   ]
  },
  {
   "cell_type": "markdown",
   "id": "909912e9",
   "metadata": {
    "papermill": {
     "duration": 0.02779,
     "end_time": "2024-06-20T20:59:55.255787",
     "exception": false,
     "start_time": "2024-06-20T20:59:55.227997",
     "status": "completed"
    },
    "tags": []
   },
   "source": [
    "The prices per sqft values varies too much. Lets remove the outliers."
   ]
  },
  {
   "cell_type": "code",
   "execution_count": 22,
   "id": "bde8526f",
   "metadata": {
    "execution": {
     "iopub.execute_input": "2024-06-20T20:59:55.311837Z",
     "iopub.status.busy": "2024-06-20T20:59:55.311269Z",
     "iopub.status.idle": "2024-06-20T20:59:55.324661Z",
     "shell.execute_reply": "2024-06-20T20:59:55.323550Z"
    },
    "papermill": {
     "duration": 0.04563,
     "end_time": "2024-06-20T20:59:55.327411",
     "exception": false,
     "start_time": "2024-06-20T20:59:55.281781",
     "status": "completed"
    },
    "tags": []
   },
   "outputs": [
    {
     "data": {
      "text/plain": [
       "count     12418.000000\n",
       "mean       6376.428391\n",
       "std        4158.396488\n",
       "min          44.383226\n",
       "25%        4210.526316\n",
       "50%        5306.671056\n",
       "75%        7000.000000\n",
       "max      176470.588235\n",
       "Name: price_per_sqft, dtype: float64"
      ]
     },
     "execution_count": 22,
     "metadata": {},
     "output_type": "execute_result"
    }
   ],
   "source": [
    "df['price_per_sqft'].describe()"
   ]
  },
  {
   "cell_type": "code",
   "execution_count": 23,
   "id": "f961679a",
   "metadata": {
    "execution": {
     "iopub.execute_input": "2024-06-20T20:59:55.370222Z",
     "iopub.status.busy": "2024-06-20T20:59:55.368890Z",
     "iopub.status.idle": "2024-06-20T20:59:55.788939Z",
     "shell.execute_reply": "2024-06-20T20:59:55.787773Z"
    },
    "papermill": {
     "duration": 0.444065,
     "end_time": "2024-06-20T20:59:55.791691",
     "exception": false,
     "start_time": "2024-06-20T20:59:55.347626",
     "status": "completed"
    },
    "tags": []
   },
   "outputs": [
    {
     "data": {
      "text/plain": [
       "(10250, 8)"
      ]
     },
     "execution_count": 23,
     "metadata": {},
     "output_type": "execute_result"
    }
   ],
   "source": [
    "def remove_pps_outliers(df):\n",
    "    df_out = pd.DataFrame()\n",
    "    for key, subdf in df.groupby('location'):\n",
    "        m = np.mean(subdf.price_per_sqft)\n",
    "        st = np.std(subdf.price_per_sqft)\n",
    "        reduced_df = subdf[(subdf.price_per_sqft>(m-st)) & (subdf.price_per_sqft<=(m+st))]\n",
    "        df_out = pd.concat([df_out,reduced_df],ignore_index=True)\n",
    "    return df_out\n",
    "df = remove_pps_outliers(df)\n",
    "df.shape"
   ]
  },
  {
   "cell_type": "code",
   "execution_count": 24,
   "id": "334e4442",
   "metadata": {
    "execution": {
     "iopub.execute_input": "2024-06-20T20:59:55.833214Z",
     "iopub.status.busy": "2024-06-20T20:59:55.832763Z",
     "iopub.status.idle": "2024-06-20T20:59:55.848130Z",
     "shell.execute_reply": "2024-06-20T20:59:55.846864Z"
    },
    "papermill": {
     "duration": 0.039557,
     "end_time": "2024-06-20T20:59:55.850963",
     "exception": false,
     "start_time": "2024-06-20T20:59:55.811406",
     "status": "completed"
    },
    "tags": []
   },
   "outputs": [
    {
     "data": {
      "text/plain": [
       "count    10250.000000\n",
       "mean      5665.357327\n",
       "std       2281.139336\n",
       "min        876.795163\n",
       "25%       4230.769231\n",
       "50%       5175.792088\n",
       "75%       6457.410642\n",
       "max      24000.000000\n",
       "Name: price_per_sqft, dtype: float64"
      ]
     },
     "execution_count": 24,
     "metadata": {},
     "output_type": "execute_result"
    }
   ],
   "source": [
    "df['price_per_sqft'].describe()"
   ]
  },
  {
   "cell_type": "code",
   "execution_count": 25,
   "id": "cda92dbc",
   "metadata": {
    "execution": {
     "iopub.execute_input": "2024-06-20T20:59:55.893969Z",
     "iopub.status.busy": "2024-06-20T20:59:55.893497Z",
     "iopub.status.idle": "2024-06-20T20:59:56.263882Z",
     "shell.execute_reply": "2024-06-20T20:59:56.262466Z"
    },
    "papermill": {
     "duration": 0.396122,
     "end_time": "2024-06-20T20:59:56.267006",
     "exception": false,
     "start_time": "2024-06-20T20:59:55.870884",
     "status": "completed"
    },
    "tags": []
   },
   "outputs": [
    {
     "data": {
      "image/png": "[encoded data removed]",
      "text/plain": [
       "<Figure size 1000x600 with 1 Axes>"
      ]
     },
     "metadata": {},
     "output_type": "display_data"
    }
   ],
   "source": [
    "plt.figure(figsize=(10, 6))\n",
    "plt.hist(df['price_per_sqft'], bins=10, edgecolor='black', color='skyblue')\n",
    "plt.xlabel('Price per Square Foot')\n",
    "plt.ylabel('Count')\n",
    "plt.title('Distribution of Price per Square Foot')\n",
    "plt.xticks(rotation=45)\n",
    "plt.grid(True)\n",
    "plt.show()"
   ]
  },
  {
   "cell_type": "markdown",
   "id": "47ddcc8b",
   "metadata": {
    "papermill": {
     "duration": 0.02009,
     "end_time": "2024-06-20T20:59:56.307391",
     "exception": false,
     "start_time": "2024-06-20T20:59:56.287301",
     "status": "completed"
    },
    "tags": []
   },
   "source": [
    "Our business logic states that it is unusual to have more than 2 bathrooms that total number of bedrooms in a house. So, we consider them outliers and remove them."
   ]
  },
  {
   "cell_type": "code",
   "execution_count": 26,
   "id": "67aecc20",
   "metadata": {
    "execution": {
     "iopub.execute_input": "2024-06-20T20:59:56.350427Z",
     "iopub.status.busy": "2024-06-20T20:59:56.349939Z",
     "iopub.status.idle": "2024-06-20T20:59:56.369086Z",
     "shell.execute_reply": "2024-06-20T20:59:56.367946Z"
    },
    "papermill": {
     "duration": 0.04352,
     "end_time": "2024-06-20T20:59:56.371518",
     "exception": false,
     "start_time": "2024-06-20T20:59:56.327998",
     "status": "completed"
    },
    "tags": []
   },
   "outputs": [
    {
     "name": "stdout",
     "output_type": "stream",
     "text": [
      "       availability       location  total_sqft  bath  balcony   price  bhk  \\\n",
      "1464  Ready To Move     chamrajpet      1500.0   9.0      3.0   230.0    6   \n",
      "1598  Ready To Move  chikkabanavar      2460.0   7.0      2.0    80.0    4   \n",
      "5805  Ready To Move          other     11338.0   9.0      1.0  1000.0    6   \n",
      "7056  Ready To Move          other      1200.0   9.0      3.0   122.0    6   \n",
      "9007  Ready To Move    thanisandra      1806.0   6.0      2.0   116.0    3   \n",
      "\n",
      "      price_per_sqft  \n",
      "1464    15333.333333  \n",
      "1598     3252.032520  \n",
      "5805     8819.897689  \n",
      "7056    10166.666667  \n",
      "9007     6423.034330  \n"
     ]
    },
    {
     "data": {
      "text/plain": [
       "(10245, 8)"
      ]
     },
     "execution_count": 26,
     "metadata": {},
     "output_type": "execute_result"
    }
   ],
   "source": [
    "print(df[df['bhk']+2<df['bath']])\n",
    "df = df[df['bhk']+2>=df['bath']]\n",
    "df.shape"
   ]
  },
  {
   "cell_type": "code",
   "execution_count": 27,
   "id": "11e69be1",
   "metadata": {
    "execution": {
     "iopub.execute_input": "2024-06-20T20:59:56.415030Z",
     "iopub.status.busy": "2024-06-20T20:59:56.414056Z",
     "iopub.status.idle": "2024-06-20T20:59:56.424008Z",
     "shell.execute_reply": "2024-06-20T20:59:56.422898Z"
    },
    "papermill": {
     "duration": 0.034681,
     "end_time": "2024-06-20T20:59:56.426645",
     "exception": false,
     "start_time": "2024-06-20T20:59:56.391964",
     "status": "completed"
    },
    "tags": []
   },
   "outputs": [
    {
     "data": {
      "text/plain": [
       "array(['18-May', 'Ready To Move', '20-May', '18-Jun', '17-Dec', '15-Dec',\n",
       "       '22-Jun', '19-Dec', '19-Jan', '19-Mar', '20-Mar', '18-Oct',\n",
       "       '18-Jan', '18-Jul', '18-Mar', '18-Apr', '21-Sep', '21-Dec',\n",
       "       '17-Nov', '18-Dec', '17-Jul', '18-Aug', '19-Oct', '19-Apr',\n",
       "       '19-May', '17-Sep', '17-Aug', '20-Jan', '17-Jun', '17-May',\n",
       "       '18-Nov', '17-Oct', '17-Apr', '20-Dec', '20-Oct', '21-Feb',\n",
       "       '19-Feb', '22-Dec', '19-Jun', '18-Sep', '19-Jul', '22-Jan',\n",
       "       '19-Aug', '20-Jun', '19-Sep', '19-Nov', '18-Feb', '17-Mar',\n",
       "       '21-Jul', '22-Nov', '21-Aug', '16-Oct', '16-Mar', '21-Mar',\n",
       "       '20-Aug', '16-Dec', '20-Sep', '16-Sep', '22-May', '22-Mar',\n",
       "       '21-May', '21-Oct', '21-Jan', '16-Nov', '21-Nov', '16-Jul',\n",
       "       '15-Jun', '20-Nov', '20-Apr', '14-Jul', '20-Jul', '17-Jan',\n",
       "       '21-Jun', '20-Feb', '14-Nov', '15-Aug'], dtype=object)"
      ]
     },
     "execution_count": 27,
     "metadata": {},
     "output_type": "execute_result"
    }
   ],
   "source": [
    "df['availability'].unique()"
   ]
  },
  {
   "cell_type": "code",
   "execution_count": 28,
   "id": "9c4a01d1",
   "metadata": {
    "execution": {
     "iopub.execute_input": "2024-06-20T20:59:56.473111Z",
     "iopub.status.busy": "2024-06-20T20:59:56.472235Z",
     "iopub.status.idle": "2024-06-20T20:59:56.885173Z",
     "shell.execute_reply": "2024-06-20T20:59:56.883987Z"
    },
    "papermill": {
     "duration": 0.439898,
     "end_time": "2024-06-20T20:59:56.888813",
     "exception": false,
     "start_time": "2024-06-20T20:59:56.448915",
     "status": "completed"
    },
    "tags": []
   },
   "outputs": [
    {
     "data": {
      "image/png": "[encoded data removed]",
      "text/plain": [
       "<Figure size 1200x600 with 1 Axes>"
      ]
     },
     "metadata": {},
     "output_type": "display_data"
    }
   ],
   "source": [
    "def extract_month(date_str):\n",
    "    if date_str == \"Ready To Move\":\n",
    "        return date_str\n",
    "    return date_str.split('-')[1]\n",
    "\n",
    "df['availability_month'] = df['availability'].apply(extract_month)\n",
    "\n",
    "df_grouped = df.groupby('availability_month')['price_per_sqft'].mean().reset_index()\n",
    "\n",
    "months_order = ['Jan', 'Feb', 'Mar', 'Apr', 'May', 'Jun', 'Jul', 'Aug', 'Sep', 'Oct', 'Nov', 'Dec', 'Ready To Move']\n",
    "df_grouped['availability_month'] = pd.Categorical(df_grouped['availability_month'], categories=months_order, ordered=True)\n",
    "df_grouped = df_grouped.sort_values('availability_month')\n",
    "\n",
    "# Create bar chart\n",
    "plt.figure(figsize=(12, 6))\n",
    "plt.bar(df_grouped['availability_month'], df_grouped['price_per_sqft'], color='skyblue')\n",
    "plt.xlabel('Availability Month')\n",
    "plt.ylabel('Average Price per Square Foot')\n",
    "plt.title('Impact of Availability Month on Price per Square Foot')\n",
    "plt.xticks(rotation=45)\n",
    "plt.grid(True)\n",
    "plt.show()"
   ]
  },
  {
   "cell_type": "code",
   "execution_count": 29,
   "id": "9dac7951",
   "metadata": {
    "execution": {
     "iopub.execute_input": "2024-06-20T20:59:56.936632Z",
     "iopub.status.busy": "2024-06-20T20:59:56.936130Z",
     "iopub.status.idle": "2024-06-20T20:59:56.945081Z",
     "shell.execute_reply": "2024-06-20T20:59:56.943958Z"
    },
    "papermill": {
     "duration": 0.036105,
     "end_time": "2024-06-20T20:59:56.947779",
     "exception": false,
     "start_time": "2024-06-20T20:59:56.911674",
     "status": "completed"
    },
    "tags": []
   },
   "outputs": [],
   "source": [
    "df.drop(['availability','price_per_sqft'],axis=1,inplace=True)"
   ]
  },
  {
   "cell_type": "code",
   "execution_count": 30,
   "id": "d2fb473d",
   "metadata": {
    "execution": {
     "iopub.execute_input": "2024-06-20T20:59:56.993708Z",
     "iopub.status.busy": "2024-06-20T20:59:56.993212Z",
     "iopub.status.idle": "2024-06-20T20:59:57.030184Z",
     "shell.execute_reply": "2024-06-20T20:59:57.028959Z"
    },
    "papermill": {
     "duration": 0.063662,
     "end_time": "2024-06-20T20:59:57.033518",
     "exception": false,
     "start_time": "2024-06-20T20:59:56.969856",
     "status": "completed"
    },
    "tags": []
   },
   "outputs": [],
   "source": [
    "dummies_location = pd.get_dummies(df.location, dtype=int)\n",
    "dummies_location.drop(['other'],axis=1,inplace=True)\n",
    "\n",
    "dummies_availability = pd.get_dummies(df.availability_month, dtype=int)\n",
    "dummies_availability.drop(['Ready To Move'],axis=1,inplace=True)"
   ]
  },
  {
   "cell_type": "code",
   "execution_count": 31,
   "id": "f46913a7",
   "metadata": {
    "execution": {
     "iopub.execute_input": "2024-06-20T20:59:57.082507Z",
     "iopub.status.busy": "2024-06-20T20:59:57.081663Z",
     "iopub.status.idle": "2024-06-20T20:59:57.145079Z",
     "shell.execute_reply": "2024-06-20T20:59:57.143719Z"
    },
    "papermill": {
     "duration": 0.092598,
     "end_time": "2024-06-20T20:59:57.148523",
     "exception": false,
     "start_time": "2024-06-20T20:59:57.055925",
     "status": "completed"
    },
    "tags": []
   },
   "outputs": [
    {
     "data": {
      "text/html": [
       "<div>\n",
       "<style scoped>\n",
       "    .dataframe tbody tr th:only-of-type {\n",
       "        vertical-align: middle;\n",
       "    }\n",
       "\n",
       "    .dataframe tbody tr th {\n",
       "        vertical-align: top;\n",
       "    }\n",
       "\n",
       "    .dataframe thead th {\n",
       "        text-align: right;\n",
       "    }\n",
       "</style>\n",
       "<table border=\"1\" class=\"dataframe\">\n",
       "  <thead>\n",
       "    <tr style=\"text-align: right;\">\n",
       "      <th></th>\n",
       "      <th>total_sqft</th>\n",
       "      <th>bath</th>\n",
       "      <th>balcony</th>\n",
       "      <th>price</th>\n",
       "      <th>bhk</th>\n",
       "      <th>devarachikkanahalli</th>\n",
       "      <th>1st block jayanagar</th>\n",
       "      <th>1st phase jp nagar</th>\n",
       "      <th>2nd phase judicial layout</th>\n",
       "      <th>2nd stage nagarbhavi</th>\n",
       "      <th>...</th>\n",
       "      <th>vijayanagar</th>\n",
       "      <th>vishveshwarya layout</th>\n",
       "      <th>vishwapriya layout</th>\n",
       "      <th>vittasandra</th>\n",
       "      <th>whitefield</th>\n",
       "      <th>yelachenahalli</th>\n",
       "      <th>yelahanka</th>\n",
       "      <th>yelahanka new town</th>\n",
       "      <th>yelenahalli</th>\n",
       "      <th>yeshwanthpur</th>\n",
       "    </tr>\n",
       "  </thead>\n",
       "  <tbody>\n",
       "    <tr>\n",
       "      <th>0</th>\n",
       "      <td>1250.0</td>\n",
       "      <td>2.0</td>\n",
       "      <td>3.0</td>\n",
       "      <td>44.0</td>\n",
       "      <td>3</td>\n",
       "      <td>1</td>\n",
       "      <td>0</td>\n",
       "      <td>0</td>\n",
       "      <td>0</td>\n",
       "      <td>0</td>\n",
       "      <td>...</td>\n",
       "      <td>0</td>\n",
       "      <td>0</td>\n",
       "      <td>0</td>\n",
       "      <td>0</td>\n",
       "      <td>0</td>\n",
       "      <td>0</td>\n",
       "      <td>0</td>\n",
       "      <td>0</td>\n",
       "      <td>0</td>\n",
       "      <td>0</td>\n",
       "    </tr>\n",
       "    <tr>\n",
       "      <th>1</th>\n",
       "      <td>1250.0</td>\n",
       "      <td>2.0</td>\n",
       "      <td>2.0</td>\n",
       "      <td>40.0</td>\n",
       "      <td>2</td>\n",
       "      <td>1</td>\n",
       "      <td>0</td>\n",
       "      <td>0</td>\n",
       "      <td>0</td>\n",
       "      <td>0</td>\n",
       "      <td>...</td>\n",
       "      <td>0</td>\n",
       "      <td>0</td>\n",
       "      <td>0</td>\n",
       "      <td>0</td>\n",
       "      <td>0</td>\n",
       "      <td>0</td>\n",
       "      <td>0</td>\n",
       "      <td>0</td>\n",
       "      <td>0</td>\n",
       "      <td>0</td>\n",
       "    </tr>\n",
       "    <tr>\n",
       "      <th>2</th>\n",
       "      <td>1200.0</td>\n",
       "      <td>2.0</td>\n",
       "      <td>2.0</td>\n",
       "      <td>83.0</td>\n",
       "      <td>2</td>\n",
       "      <td>1</td>\n",
       "      <td>0</td>\n",
       "      <td>0</td>\n",
       "      <td>0</td>\n",
       "      <td>0</td>\n",
       "      <td>...</td>\n",
       "      <td>0</td>\n",
       "      <td>0</td>\n",
       "      <td>0</td>\n",
       "      <td>0</td>\n",
       "      <td>0</td>\n",
       "      <td>0</td>\n",
       "      <td>0</td>\n",
       "      <td>0</td>\n",
       "      <td>0</td>\n",
       "      <td>0</td>\n",
       "    </tr>\n",
       "    <tr>\n",
       "      <th>3</th>\n",
       "      <td>1170.0</td>\n",
       "      <td>2.0</td>\n",
       "      <td>2.0</td>\n",
       "      <td>40.0</td>\n",
       "      <td>2</td>\n",
       "      <td>1</td>\n",
       "      <td>0</td>\n",
       "      <td>0</td>\n",
       "      <td>0</td>\n",
       "      <td>0</td>\n",
       "      <td>...</td>\n",
       "      <td>0</td>\n",
       "      <td>0</td>\n",
       "      <td>0</td>\n",
       "      <td>0</td>\n",
       "      <td>0</td>\n",
       "      <td>0</td>\n",
       "      <td>0</td>\n",
       "      <td>0</td>\n",
       "      <td>0</td>\n",
       "      <td>0</td>\n",
       "    </tr>\n",
       "    <tr>\n",
       "      <th>4</th>\n",
       "      <td>1425.0</td>\n",
       "      <td>2.0</td>\n",
       "      <td>2.0</td>\n",
       "      <td>65.0</td>\n",
       "      <td>3</td>\n",
       "      <td>1</td>\n",
       "      <td>0</td>\n",
       "      <td>0</td>\n",
       "      <td>0</td>\n",
       "      <td>0</td>\n",
       "      <td>...</td>\n",
       "      <td>0</td>\n",
       "      <td>0</td>\n",
       "      <td>0</td>\n",
       "      <td>0</td>\n",
       "      <td>0</td>\n",
       "      <td>0</td>\n",
       "      <td>0</td>\n",
       "      <td>0</td>\n",
       "      <td>0</td>\n",
       "      <td>0</td>\n",
       "    </tr>\n",
       "  </tbody>\n",
       "</table>\n",
       "<p>5 rows × 242 columns</p>\n",
       "</div>"
      ],
      "text/plain": [
       "   total_sqft  bath  balcony  price  bhk   devarachikkanahalli  \\\n",
       "0      1250.0   2.0      3.0   44.0    3                     1   \n",
       "1      1250.0   2.0      2.0   40.0    2                     1   \n",
       "2      1200.0   2.0      2.0   83.0    2                     1   \n",
       "3      1170.0   2.0      2.0   40.0    2                     1   \n",
       "4      1425.0   2.0      2.0   65.0    3                     1   \n",
       "\n",
       "   1st block jayanagar  1st phase jp nagar  2nd phase judicial layout  \\\n",
       "0                    0                   0                          0   \n",
       "1                    0                   0                          0   \n",
       "2                    0                   0                          0   \n",
       "3                    0                   0                          0   \n",
       "4                    0                   0                          0   \n",
       "\n",
       "   2nd stage nagarbhavi  ...  vijayanagar  vishveshwarya layout  \\\n",
       "0                     0  ...            0                     0   \n",
       "1                     0  ...            0                     0   \n",
       "2                     0  ...            0                     0   \n",
       "3                     0  ...            0                     0   \n",
       "4                     0  ...            0                     0   \n",
       "\n",
       "   vishwapriya layout  vittasandra  whitefield  yelachenahalli  yelahanka  \\\n",
       "0                   0            0           0               0          0   \n",
       "1                   0            0           0               0          0   \n",
       "2                   0            0           0               0          0   \n",
       "3                   0            0           0               0          0   \n",
       "4                   0            0           0               0          0   \n",
       "\n",
       "   yelahanka new town  yelenahalli  yeshwanthpur  \n",
       "0                   0            0             0  \n",
       "1                   0            0             0  \n",
       "2                   0            0             0  \n",
       "3                   0            0             0  \n",
       "4                   0            0             0  \n",
       "\n",
       "[5 rows x 242 columns]"
      ]
     },
     "execution_count": 31,
     "metadata": {},
     "output_type": "execute_result"
    }
   ],
   "source": [
    "df = pd.concat([df,dummies_location],axis=1)\n",
    "# df = pd.concat([df,dummies_availability],axis=1)\n",
    "df.drop(['location','availability_month'],axis=1,inplace=True)\n",
    "df.head()"
   ]
  },
  {
   "cell_type": "code",
   "execution_count": 32,
   "id": "6f2cca5b",
   "metadata": {
    "execution": {
     "iopub.execute_input": "2024-06-20T20:59:57.195651Z",
     "iopub.status.busy": "2024-06-20T20:59:57.195150Z",
     "iopub.status.idle": "2024-06-20T20:59:57.203932Z",
     "shell.execute_reply": "2024-06-20T20:59:57.202616Z"
    },
    "papermill": {
     "duration": 0.0356,
     "end_time": "2024-06-20T20:59:57.206467",
     "exception": false,
     "start_time": "2024-06-20T20:59:57.170867",
     "status": "completed"
    },
    "tags": []
   },
   "outputs": [
    {
     "data": {
      "text/plain": [
       "(10245, 242)"
      ]
     },
     "execution_count": 32,
     "metadata": {},
     "output_type": "execute_result"
    }
   ],
   "source": [
    "df.shape"
   ]
  },
  {
   "cell_type": "code",
   "execution_count": 33,
   "id": "c91b8dcb",
   "metadata": {
    "execution": {
     "iopub.execute_input": "2024-06-20T20:59:57.255711Z",
     "iopub.status.busy": "2024-06-20T20:59:57.255220Z",
     "iopub.status.idle": "2024-06-20T20:59:57.300500Z",
     "shell.execute_reply": "2024-06-20T20:59:57.299330Z"
    },
    "papermill": {
     "duration": 0.073088,
     "end_time": "2024-06-20T20:59:57.303712",
     "exception": false,
     "start_time": "2024-06-20T20:59:57.230624",
     "status": "completed"
    },
    "tags": []
   },
   "outputs": [],
   "source": [
    "X = df.drop(['price'],axis=1)\n",
    "y = df.price\n",
    "\n",
    "X_train, X_test, y_train, y_test =  train_test_split(X, y, test_size=0.2, random_state=10)"
   ]
  },
  {
   "cell_type": "code",
   "execution_count": 34,
   "id": "6aeec845",
   "metadata": {
    "execution": {
     "iopub.execute_input": "2024-06-20T20:59:57.350487Z",
     "iopub.status.busy": "2024-06-20T20:59:57.350019Z",
     "iopub.status.idle": "2024-06-20T20:59:57.592837Z",
     "shell.execute_reply": "2024-06-20T20:59:57.591029Z"
    },
    "papermill": {
     "duration": 0.270912,
     "end_time": "2024-06-20T20:59:57.597081",
     "exception": false,
     "start_time": "2024-06-20T20:59:57.326169",
     "status": "completed"
    },
    "tags": []
   },
   "outputs": [
    {
     "data": {
      "text/plain": [
       "0.747602661296545"
      ]
     },
     "execution_count": 34,
     "metadata": {},
     "output_type": "execute_result"
    }
   ],
   "source": [
    "lr_clf = linear_model.LinearRegression()\n",
    "lr_clf.fit(X_train, y_train)\n",
    "lr_clf.score(X_test, y_test)"
   ]
  },
  {
   "cell_type": "code",
   "execution_count": 35,
   "id": "9d75fd23",
   "metadata": {
    "execution": {
     "iopub.execute_input": "2024-06-20T20:59:57.720946Z",
     "iopub.status.busy": "2024-06-20T20:59:57.720483Z",
     "iopub.status.idle": "2024-06-20T20:59:59.007463Z",
     "shell.execute_reply": "2024-06-20T20:59:59.005746Z"
    },
    "papermill": {
     "duration": 1.32604,
     "end_time": "2024-06-20T20:59:59.013201",
     "exception": false,
     "start_time": "2024-06-20T20:59:57.687161",
     "status": "completed"
    },
    "tags": []
   },
   "outputs": [
    {
     "data": {
      "text/plain": [
       "array([0.74760266, 0.56770378, 0.59476669, 0.83993679, 0.79368761])"
      ]
     },
     "execution_count": 35,
     "metadata": {},
     "output_type": "execute_result"
    }
   ],
   "source": [
    "cv = ShuffleSplit(n_splits=5, test_size=0.2, random_state=10)\n",
    "cross_val_score(linear_model.LinearRegression(), X, y, cv=cv)"
   ]
  },
  {
   "cell_type": "code",
   "execution_count": 36,
   "id": "5a911340",
   "metadata": {
    "execution": {
     "iopub.execute_input": "2024-06-20T20:59:59.113697Z",
     "iopub.status.busy": "2024-06-20T20:59:59.112758Z",
     "iopub.status.idle": "2024-06-20T21:00:07.310186Z",
     "shell.execute_reply": "2024-06-20T21:00:07.308738Z"
    },
    "papermill": {
     "duration": 8.252578,
     "end_time": "2024-06-20T21:00:07.312976",
     "exception": false,
     "start_time": "2024-06-20T20:59:59.060398",
     "status": "completed"
    },
    "tags": []
   },
   "outputs": [
    {
     "data": {
      "text/html": [
       "<div>\n",
       "<style scoped>\n",
       "    .dataframe tbody tr th:only-of-type {\n",
       "        vertical-align: middle;\n",
       "    }\n",
       "\n",
       "    .dataframe tbody tr th {\n",
       "        vertical-align: top;\n",
       "    }\n",
       "\n",
       "    .dataframe thead th {\n",
       "        text-align: right;\n",
       "    }\n",
       "</style>\n",
       "<table border=\"1\" class=\"dataframe\">\n",
       "  <thead>\n",
       "    <tr style=\"text-align: right;\">\n",
       "      <th></th>\n",
       "      <th>model</th>\n",
       "      <th>best_score</th>\n",
       "      <th>best_params</th>\n",
       "    </tr>\n",
       "  </thead>\n",
       "  <tbody>\n",
       "    <tr>\n",
       "      <th>0</th>\n",
       "      <td>linear_regression</td>\n",
       "      <td>0.697213</td>\n",
       "      <td>{}</td>\n",
       "    </tr>\n",
       "    <tr>\n",
       "      <th>1</th>\n",
       "      <td>lasso</td>\n",
       "      <td>0.549537</td>\n",
       "      <td>{'alpha': 1, 'selection': 'random'}</td>\n",
       "    </tr>\n",
       "    <tr>\n",
       "      <th>2</th>\n",
       "      <td>decision_tree</td>\n",
       "      <td>0.645375</td>\n",
       "      <td>{'criterion': 'friedman_mse', 'splitter': 'best'}</td>\n",
       "    </tr>\n",
       "  </tbody>\n",
       "</table>\n",
       "</div>"
      ],
      "text/plain": [
       "               model  best_score  \\\n",
       "0  linear_regression    0.697213   \n",
       "1              lasso    0.549537   \n",
       "2      decision_tree    0.645375   \n",
       "\n",
       "                                         best_params  \n",
       "0                                                 {}  \n",
       "1                {'alpha': 1, 'selection': 'random'}  \n",
       "2  {'criterion': 'friedman_mse', 'splitter': 'best'}  "
      ]
     },
     "execution_count": 36,
     "metadata": {},
     "output_type": "execute_result"
    }
   ],
   "source": [
    "from sklearn.model_selection import GridSearchCV\n",
    "\n",
    "from sklearn.linear_model import Lasso\n",
    "from sklearn.tree import DecisionTreeRegressor\n",
    "\n",
    "def find_best_model_using_gridsearchcv(X,y):\n",
    "    algos = {\n",
    "        'linear_regression' : {\n",
    "            'model': linear_model.LinearRegression(),\n",
    "            'params': {\n",
    "                \n",
    "            }\n",
    "        },\n",
    "        'lasso': {\n",
    "            'model': Lasso(),\n",
    "            'params': {\n",
    "                'alpha': [1,2],\n",
    "                'selection': ['random', 'cyclic']\n",
    "            }\n",
    "        },\n",
    "        'decision_tree': {\n",
    "            'model': DecisionTreeRegressor(),\n",
    "            'params': {\n",
    "                'criterion' : ['mse','friedman_mse'],\n",
    "                'splitter': ['best','random']\n",
    "            }\n",
    "        }\n",
    "    }\n",
    "    scores = []\n",
    "    cv = ShuffleSplit(n_splits=5, test_size=0.2, random_state=0)\n",
    "    for algo_name, config in algos.items():\n",
    "        gs =  GridSearchCV(config['model'], config['params'], cv=cv, return_train_score=False)\n",
    "        gs.fit(X,y)\n",
    "        scores.append({\n",
    "            'model': algo_name,\n",
    "            'best_score': gs.best_score_,\n",
    "            'best_params': gs.best_params_\n",
    "        })\n",
    "\n",
    "    return pd.DataFrame(scores,columns=['model','best_score','best_params'])\n",
    "\n",
    "find_best_model_using_gridsearchcv(X,y)"
   ]
  },
  {
   "cell_type": "code",
   "execution_count": 37,
   "id": "780db68b",
   "metadata": {
    "execution": {
     "iopub.execute_input": "2024-06-20T21:00:07.361564Z",
     "iopub.status.busy": "2024-06-20T21:00:07.361068Z",
     "iopub.status.idle": "2024-06-20T21:00:07.367637Z",
     "shell.execute_reply": "2024-06-20T21:00:07.366291Z"
    },
    "papermill": {
     "duration": 0.033864,
     "end_time": "2024-06-20T21:00:07.370174",
     "exception": false,
     "start_time": "2024-06-20T21:00:07.336310",
     "status": "completed"
    },
    "tags": []
   },
   "outputs": [],
   "source": [
    "import pickle\n",
    "\n",
    "with open('bengaluru_home_prices_model.pickle','wb') as f:\n",
    "    pickle.dump(lr_clf,f)"
   ]
  },
  {
   "cell_type": "code",
   "execution_count": 38,
   "id": "54d059ad",
   "metadata": {
    "execution": {
     "iopub.execute_input": "2024-06-20T21:00:07.418297Z",
     "iopub.status.busy": "2024-06-20T21:00:07.417827Z",
     "iopub.status.idle": "2024-06-20T21:00:07.426126Z",
     "shell.execute_reply": "2024-06-20T21:00:07.424894Z"
    },
    "papermill": {
     "duration": 0.035671,
     "end_time": "2024-06-20T21:00:07.428848",
     "exception": false,
     "start_time": "2024-06-20T21:00:07.393177",
     "status": "completed"
    },
    "tags": []
   },
   "outputs": [],
   "source": [
    "import json \n",
    "columns = {\n",
    "    'data_columns' : [col.lower() for col in X.columns]\n",
    "}\n",
    "with open(\"columns.json\", \"w\") as f: \n",
    "    f.write(json.dumps(columns))"
   ]
  },
  {
   "cell_type": "code",
   "execution_count": null,
   "id": "eb9afa8f",
   "metadata": {
    "papermill": {
     "duration": 0.022962,
     "end_time": "2024-06-20T21:00:07.474977",
     "exception": false,
     "start_time": "2024-06-20T21:00:07.452015",
     "status": "completed"
    },
    "tags": []
   },
   "outputs": [],
   "source": []
  }
 ],
 "metadata": {
  "kaggle": {
   "accelerator": "none",
   "dataSources": [
    {
     "datasetId": 20710,
     "sourceId": 26737,
     "sourceType": "datasetVersion"
    }
   ],
   "dockerImageVersionId": 30732,
   "isGpuEnabled": false,
   "isInternetEnabled": true,
   "language": "python",
   "sourceType": "notebook"
  },
  "kernelspec": {
   "display_name": "Python 3",
   "language": "python",
   "name": "python3"
  },
  "language_info": {
   "codemirror_mode": {
    "name": "ipython",
    "version": 3
   },
   "file_extension": ".py",
   "mimetype": "text/x-python",
   "name": "python",
   "nbconvert_exporter": "python",
   "pygments_lexer": "ipython3",
   "version": "3.10.13"
  },
  "papermill": {
   "default_parameters": {},
   "duration": 21.638122,
   "end_time": "2024-06-20T21:00:08.422944",
   "environment_variables": {},
   "exception": null,
   "input_path": "__notebook__.ipynb",
   "output_path": "__notebook__.ipynb",
   "parameters": {},
   "start_time": "2024-06-20T20:59:46.784822",
   "version": "2.5.0"
  }
 },
 "nbformat": 4,
 "nbformat_minor": 5
}
