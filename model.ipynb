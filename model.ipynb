{
 "cells": [
  {
   "cell_type": "code",
   "execution_count": 1,
   "id": "f1a30e0e",
   "metadata": {
    "_cell_guid": "b1076dfc-b9ad-4769-8c92-a6c4dae69d19",
    "_uuid": "8f2839f25d086af736a60e9eeb907d3b93b6e0e5",
    "execution": {
     "iopub.execute_input": "2024-06-19T19:04:34.951205Z",
     "iopub.status.busy": "2024-06-19T19:04:34.950738Z",
     "iopub.status.idle": "2024-06-19T19:04:37.588406Z",
     "shell.execute_reply": "2024-06-19T19:04:37.587338Z"
    },
    "papermill": {
     "duration": 2.653382,
     "end_time": "2024-06-19T19:04:37.591227",
     "exception": false,
     "start_time": "2024-06-19T19:04:34.937845",
     "status": "completed"
    },
    "tags": []
   },
   "outputs": [],
   "source": [
    "import numpy as np \n",
    "import pandas as pd \n",
    "import seaborn as sns\n",
    "import matplotlib.pyplot as plt\n",
    "%matplotlib inline\n",
    "\n",
    "import re\n",
    "\n",
    "from sklearn import linear_model\n",
    "from sklearn.model_selection import train_test_split\n",
    "\n",
    "import warnings\n",
    "warnings.filterwarnings('ignore')"
   ]
  },
  {
   "cell_type": "code",
   "execution_count": 2,
   "id": "831c5540",
   "metadata": {
    "execution": {
     "iopub.execute_input": "2024-06-19T19:04:37.613143Z",
     "iopub.status.busy": "2024-06-19T19:04:37.612256Z",
     "iopub.status.idle": "2024-06-19T19:04:37.694117Z",
     "shell.execute_reply": "2024-06-19T19:04:37.692939Z"
    },
    "papermill": {
     "duration": 0.095631,
     "end_time": "2024-06-19T19:04:37.696778",
     "exception": false,
     "start_time": "2024-06-19T19:04:37.601147",
     "status": "completed"
    },
    "tags": []
   },
   "outputs": [
    {
     "data": {
      "text/html": [
       "<div>\n",
       "<style scoped>\n",
       "    .dataframe tbody tr th:only-of-type {\n",
       "        vertical-align: middle;\n",
       "    }\n",
       "\n",
       "    .dataframe tbody tr th {\n",
       "        vertical-align: top;\n",
       "    }\n",
       "\n",
       "    .dataframe thead th {\n",
       "        text-align: right;\n",
       "    }\n",
       "</style>\n",
       "<table border=\"1\" class=\"dataframe\">\n",
       "  <thead>\n",
       "    <tr style=\"text-align: right;\">\n",
       "      <th></th>\n",
       "      <th>area_type</th>\n",
       "      <th>availability</th>\n",
       "      <th>location</th>\n",
       "      <th>size</th>\n",
       "      <th>society</th>\n",
       "      <th>total_sqft</th>\n",
       "      <th>bath</th>\n",
       "      <th>balcony</th>\n",
       "      <th>price</th>\n",
       "    </tr>\n",
       "  </thead>\n",
       "  <tbody>\n",
       "    <tr>\n",
       "      <th>0</th>\n",
       "      <td>Super built-up  Area</td>\n",
       "      <td>19-Dec</td>\n",
       "      <td>Electronic City Phase II</td>\n",
       "      <td>2 BHK</td>\n",
       "      <td>Coomee</td>\n",
       "      <td>1056</td>\n",
       "      <td>2.0</td>\n",
       "      <td>1.0</td>\n",
       "      <td>39.07</td>\n",
       "    </tr>\n",
       "    <tr>\n",
       "      <th>1</th>\n",
       "      <td>Plot  Area</td>\n",
       "      <td>Ready To Move</td>\n",
       "      <td>Chikka Tirupathi</td>\n",
       "      <td>4 Bedroom</td>\n",
       "      <td>Theanmp</td>\n",
       "      <td>2600</td>\n",
       "      <td>5.0</td>\n",
       "      <td>3.0</td>\n",
       "      <td>120.00</td>\n",
       "    </tr>\n",
       "    <tr>\n",
       "      <th>2</th>\n",
       "      <td>Built-up  Area</td>\n",
       "      <td>Ready To Move</td>\n",
       "      <td>Uttarahalli</td>\n",
       "      <td>3 BHK</td>\n",
       "      <td>NaN</td>\n",
       "      <td>1440</td>\n",
       "      <td>2.0</td>\n",
       "      <td>3.0</td>\n",
       "      <td>62.00</td>\n",
       "    </tr>\n",
       "    <tr>\n",
       "      <th>3</th>\n",
       "      <td>Super built-up  Area</td>\n",
       "      <td>Ready To Move</td>\n",
       "      <td>Lingadheeranahalli</td>\n",
       "      <td>3 BHK</td>\n",
       "      <td>Soiewre</td>\n",
       "      <td>1521</td>\n",
       "      <td>3.0</td>\n",
       "      <td>1.0</td>\n",
       "      <td>95.00</td>\n",
       "    </tr>\n",
       "    <tr>\n",
       "      <th>4</th>\n",
       "      <td>Super built-up  Area</td>\n",
       "      <td>Ready To Move</td>\n",
       "      <td>Kothanur</td>\n",
       "      <td>2 BHK</td>\n",
       "      <td>NaN</td>\n",
       "      <td>1200</td>\n",
       "      <td>2.0</td>\n",
       "      <td>1.0</td>\n",
       "      <td>51.00</td>\n",
       "    </tr>\n",
       "  </tbody>\n",
       "</table>\n",
       "</div>"
      ],
      "text/plain": [
       "              area_type   availability                  location       size  \\\n",
       "0  Super built-up  Area         19-Dec  Electronic City Phase II      2 BHK   \n",
       "1            Plot  Area  Ready To Move          Chikka Tirupathi  4 Bedroom   \n",
       "2        Built-up  Area  Ready To Move               Uttarahalli      3 BHK   \n",
       "3  Super built-up  Area  Ready To Move        Lingadheeranahalli      3 BHK   \n",
       "4  Super built-up  Area  Ready To Move                  Kothanur      2 BHK   \n",
       "\n",
       "   society total_sqft  bath  balcony   price  \n",
       "0  Coomee        1056   2.0      1.0   39.07  \n",
       "1  Theanmp       2600   5.0      3.0  120.00  \n",
       "2      NaN       1440   2.0      3.0   62.00  \n",
       "3  Soiewre       1521   3.0      1.0   95.00  \n",
       "4      NaN       1200   2.0      1.0   51.00  "
      ]
     },
     "execution_count": 2,
     "metadata": {},
     "output_type": "execute_result"
    }
   ],
   "source": [
    "df = pd.read_csv(\"/kaggle/input/bengaluru-house-price-data/Bengaluru_House_Data.csv\")\n",
    "df.head()"
   ]
  },
  {
   "cell_type": "code",
   "execution_count": 3,
   "id": "dd8cf8e0",
   "metadata": {
    "execution": {
     "iopub.execute_input": "2024-06-19T19:04:37.719090Z",
     "iopub.status.busy": "2024-06-19T19:04:37.718311Z",
     "iopub.status.idle": "2024-06-19T19:04:37.725658Z",
     "shell.execute_reply": "2024-06-19T19:04:37.724612Z"
    },
    "papermill": {
     "duration": 0.021167,
     "end_time": "2024-06-19T19:04:37.727988",
     "exception": false,
     "start_time": "2024-06-19T19:04:37.706821",
     "status": "completed"
    },
    "tags": []
   },
   "outputs": [
    {
     "data": {
      "text/plain": [
       "(13320, 9)"
      ]
     },
     "execution_count": 3,
     "metadata": {},
     "output_type": "execute_result"
    }
   ],
   "source": [
    "df.shape"
   ]
  },
  {
   "cell_type": "markdown",
   "id": "fff0f4b4",
   "metadata": {
    "papermill": {
     "duration": 0.010206,
     "end_time": "2024-06-19T19:04:37.748708",
     "exception": false,
     "start_time": "2024-06-19T19:04:37.738502",
     "status": "completed"
    },
    "tags": []
   },
   "source": [
    "## Data Preprocessing "
   ]
  },
  {
   "cell_type": "markdown",
   "id": "8de16e06",
   "metadata": {
    "papermill": {
     "duration": 0.010093,
     "end_time": "2024-06-19T19:04:37.769043",
     "exception": false,
     "start_time": "2024-06-19T19:04:37.758950",
     "status": "completed"
    },
    "tags": []
   },
   "source": [
    "Lets start by Data Cleaning. We will remove features to simplify the model"
   ]
  },
  {
   "cell_type": "code",
   "execution_count": 4,
   "id": "660c79f6",
   "metadata": {
    "execution": {
     "iopub.execute_input": "2024-06-19T19:04:37.791234Z",
     "iopub.status.busy": "2024-06-19T19:04:37.790820Z",
     "iopub.status.idle": "2024-06-19T19:04:37.812990Z",
     "shell.execute_reply": "2024-06-19T19:04:37.811825Z"
    },
    "papermill": {
     "duration": 0.036443,
     "end_time": "2024-06-19T19:04:37.815646",
     "exception": false,
     "start_time": "2024-06-19T19:04:37.779203",
     "status": "completed"
    },
    "tags": []
   },
   "outputs": [
    {
     "name": "stdout",
     "output_type": "stream",
     "text": [
      "              area_type  min_price  max_price\n",
      "0        Built-up  Area       9.00     2050.0\n",
      "1          Carpet  Area      13.00      500.0\n",
      "2            Plot  Area       8.44     3600.0\n",
      "3  Super built-up  Area       8.00     2912.0\n"
     ]
    }
   ],
   "source": [
    "grouped_df = df.groupby(['area_type'])['price'].agg(min_price='min', max_price='max').reset_index()\n",
    "\n",
    "print(grouped_df)"
   ]
  },
  {
   "cell_type": "markdown",
   "id": "685d1bf1",
   "metadata": {
    "papermill": {
     "duration": 0.010084,
     "end_time": "2024-06-19T19:04:37.836149",
     "exception": false,
     "start_time": "2024-06-19T19:04:37.826065",
     "status": "completed"
    },
    "tags": []
   },
   "source": [
    " Since the min and max range is quite far we can drop the area_type column"
   ]
  },
  {
   "cell_type": "code",
   "execution_count": 5,
   "id": "957dfef5",
   "metadata": {
    "execution": {
     "iopub.execute_input": "2024-06-19T19:04:37.858630Z",
     "iopub.status.busy": "2024-06-19T19:04:37.857830Z",
     "iopub.status.idle": "2024-06-19T19:04:37.878150Z",
     "shell.execute_reply": "2024-06-19T19:04:37.877036Z"
    },
    "papermill": {
     "duration": 0.03435,
     "end_time": "2024-06-19T19:04:37.880655",
     "exception": false,
     "start_time": "2024-06-19T19:04:37.846305",
     "status": "completed"
    },
    "tags": []
   },
   "outputs": [
    {
     "data": {
      "text/html": [
       "<div>\n",
       "<style scoped>\n",
       "    .dataframe tbody tr th:only-of-type {\n",
       "        vertical-align: middle;\n",
       "    }\n",
       "\n",
       "    .dataframe tbody tr th {\n",
       "        vertical-align: top;\n",
       "    }\n",
       "\n",
       "    .dataframe thead th {\n",
       "        text-align: right;\n",
       "    }\n",
       "</style>\n",
       "<table border=\"1\" class=\"dataframe\">\n",
       "  <thead>\n",
       "    <tr style=\"text-align: right;\">\n",
       "      <th></th>\n",
       "      <th>availability</th>\n",
       "      <th>location</th>\n",
       "      <th>size</th>\n",
       "      <th>society</th>\n",
       "      <th>total_sqft</th>\n",
       "      <th>bath</th>\n",
       "      <th>balcony</th>\n",
       "      <th>price</th>\n",
       "    </tr>\n",
       "  </thead>\n",
       "  <tbody>\n",
       "    <tr>\n",
       "      <th>0</th>\n",
       "      <td>19-Dec</td>\n",
       "      <td>Electronic City Phase II</td>\n",
       "      <td>2 BHK</td>\n",
       "      <td>Coomee</td>\n",
       "      <td>1056</td>\n",
       "      <td>2.0</td>\n",
       "      <td>1.0</td>\n",
       "      <td>39.07</td>\n",
       "    </tr>\n",
       "    <tr>\n",
       "      <th>1</th>\n",
       "      <td>Ready To Move</td>\n",
       "      <td>Chikka Tirupathi</td>\n",
       "      <td>4 Bedroom</td>\n",
       "      <td>Theanmp</td>\n",
       "      <td>2600</td>\n",
       "      <td>5.0</td>\n",
       "      <td>3.0</td>\n",
       "      <td>120.00</td>\n",
       "    </tr>\n",
       "    <tr>\n",
       "      <th>2</th>\n",
       "      <td>Ready To Move</td>\n",
       "      <td>Uttarahalli</td>\n",
       "      <td>3 BHK</td>\n",
       "      <td>NaN</td>\n",
       "      <td>1440</td>\n",
       "      <td>2.0</td>\n",
       "      <td>3.0</td>\n",
       "      <td>62.00</td>\n",
       "    </tr>\n",
       "    <tr>\n",
       "      <th>3</th>\n",
       "      <td>Ready To Move</td>\n",
       "      <td>Lingadheeranahalli</td>\n",
       "      <td>3 BHK</td>\n",
       "      <td>Soiewre</td>\n",
       "      <td>1521</td>\n",
       "      <td>3.0</td>\n",
       "      <td>1.0</td>\n",
       "      <td>95.00</td>\n",
       "    </tr>\n",
       "    <tr>\n",
       "      <th>4</th>\n",
       "      <td>Ready To Move</td>\n",
       "      <td>Kothanur</td>\n",
       "      <td>2 BHK</td>\n",
       "      <td>NaN</td>\n",
       "      <td>1200</td>\n",
       "      <td>2.0</td>\n",
       "      <td>1.0</td>\n",
       "      <td>51.00</td>\n",
       "    </tr>\n",
       "  </tbody>\n",
       "</table>\n",
       "</div>"
      ],
      "text/plain": [
       "    availability                  location       size  society total_sqft  \\\n",
       "0         19-Dec  Electronic City Phase II      2 BHK  Coomee        1056   \n",
       "1  Ready To Move          Chikka Tirupathi  4 Bedroom  Theanmp       2600   \n",
       "2  Ready To Move               Uttarahalli      3 BHK      NaN       1440   \n",
       "3  Ready To Move        Lingadheeranahalli      3 BHK  Soiewre       1521   \n",
       "4  Ready To Move                  Kothanur      2 BHK      NaN       1200   \n",
       "\n",
       "   bath  balcony   price  \n",
       "0   2.0      1.0   39.07  \n",
       "1   5.0      3.0  120.00  \n",
       "2   2.0      3.0   62.00  \n",
       "3   3.0      1.0   95.00  \n",
       "4   2.0      1.0   51.00  "
      ]
     },
     "execution_count": 5,
     "metadata": {},
     "output_type": "execute_result"
    }
   ],
   "source": [
    "df.drop(['area_type'], axis=1, inplace=True)\n",
    "df.head()"
   ]
  },
  {
   "cell_type": "code",
   "execution_count": 6,
   "id": "76dab72e",
   "metadata": {
    "execution": {
     "iopub.execute_input": "2024-06-19T19:04:37.903162Z",
     "iopub.status.busy": "2024-06-19T19:04:37.902800Z",
     "iopub.status.idle": "2024-06-19T19:04:37.934601Z",
     "shell.execute_reply": "2024-06-19T19:04:37.933462Z"
    },
    "papermill": {
     "duration": 0.046066,
     "end_time": "2024-06-19T19:04:37.937173",
     "exception": false,
     "start_time": "2024-06-19T19:04:37.891107",
     "status": "completed"
    },
    "tags": []
   },
   "outputs": [
    {
     "name": "stdout",
     "output_type": "stream",
     "text": [
      "      society total_sqft  min_price  max_price  average_price\n",
      "57    AWharde       3198      200.0     250.00     225.000000\n",
      "99    Adeatlm       2180      170.0     240.00     196.666667\n",
      "100   Adeatlm       2275      175.0     187.00     181.800000\n",
      "106   Adeatlm       4000      578.0     600.00     589.000000\n",
      "107   Adeatlm       5400      700.0     750.00     725.000000\n",
      "...       ...        ...        ...        ...            ...\n",
      "5548  Vaniai        1045       58.0      76.77      70.513333\n",
      "5561  Vaodssh       3600      245.0     260.00     252.500000\n",
      "5572  Vapasrk       3035      220.0     271.00     245.500000\n",
      "5602  Veales        1250       72.0      85.00      78.500000\n",
      "5707  Wiowsri        950       40.0      57.00      47.333333\n",
      "\n",
      "[341 rows x 5 columns]\n"
     ]
    }
   ],
   "source": [
    "# Group by 'are_type' and calculate the list of prices and the mean price\n",
    "pd.reset_option('display.max_columns')\n",
    "pd.reset_option('display.max_rows')\n",
    "grouped_df = df.groupby(['society','total_sqft'])['price'].agg(min_price='min', max_price='max', average_price='mean').reset_index()\n",
    "\n",
    "filtered_grouped_df = grouped_df[(grouped_df['max_price'] - grouped_df['min_price']) > 10]\n",
    "\n",
    "print(filtered_grouped_df)\n"
   ]
  },
  {
   "cell_type": "markdown",
   "id": "e1ffe022",
   "metadata": {
    "papermill": {
     "duration": 0.010417,
     "end_time": "2024-06-19T19:04:37.958367",
     "exception": false,
     "start_time": "2024-06-19T19:04:37.947950",
     "status": "completed"
    },
    "tags": []
   },
   "source": [
    "For the same society with same total_sqft the prices vary too much. Hence, we can drop society. Also, since we have location we can afford to get rid of society."
   ]
  },
  {
   "cell_type": "code",
   "execution_count": 7,
   "id": "578154a7",
   "metadata": {
    "execution": {
     "iopub.execute_input": "2024-06-19T19:04:37.981759Z",
     "iopub.status.busy": "2024-06-19T19:04:37.981357Z",
     "iopub.status.idle": "2024-06-19T19:04:37.998522Z",
     "shell.execute_reply": "2024-06-19T19:04:37.997457Z"
    },
    "papermill": {
     "duration": 0.032048,
     "end_time": "2024-06-19T19:04:38.000956",
     "exception": false,
     "start_time": "2024-06-19T19:04:37.968908",
     "status": "completed"
    },
    "tags": []
   },
   "outputs": [
    {
     "data": {
      "text/html": [
       "<div>\n",
       "<style scoped>\n",
       "    .dataframe tbody tr th:only-of-type {\n",
       "        vertical-align: middle;\n",
       "    }\n",
       "\n",
       "    .dataframe tbody tr th {\n",
       "        vertical-align: top;\n",
       "    }\n",
       "\n",
       "    .dataframe thead th {\n",
       "        text-align: right;\n",
       "    }\n",
       "</style>\n",
       "<table border=\"1\" class=\"dataframe\">\n",
       "  <thead>\n",
       "    <tr style=\"text-align: right;\">\n",
       "      <th></th>\n",
       "      <th>availability</th>\n",
       "      <th>location</th>\n",
       "      <th>size</th>\n",
       "      <th>total_sqft</th>\n",
       "      <th>bath</th>\n",
       "      <th>balcony</th>\n",
       "      <th>price</th>\n",
       "    </tr>\n",
       "  </thead>\n",
       "  <tbody>\n",
       "    <tr>\n",
       "      <th>0</th>\n",
       "      <td>19-Dec</td>\n",
       "      <td>Electronic City Phase II</td>\n",
       "      <td>2 BHK</td>\n",
       "      <td>1056</td>\n",
       "      <td>2.0</td>\n",
       "      <td>1.0</td>\n",
       "      <td>39.07</td>\n",
       "    </tr>\n",
       "    <tr>\n",
       "      <th>1</th>\n",
       "      <td>Ready To Move</td>\n",
       "      <td>Chikka Tirupathi</td>\n",
       "      <td>4 Bedroom</td>\n",
       "      <td>2600</td>\n",
       "      <td>5.0</td>\n",
       "      <td>3.0</td>\n",
       "      <td>120.00</td>\n",
       "    </tr>\n",
       "    <tr>\n",
       "      <th>2</th>\n",
       "      <td>Ready To Move</td>\n",
       "      <td>Uttarahalli</td>\n",
       "      <td>3 BHK</td>\n",
       "      <td>1440</td>\n",
       "      <td>2.0</td>\n",
       "      <td>3.0</td>\n",
       "      <td>62.00</td>\n",
       "    </tr>\n",
       "    <tr>\n",
       "      <th>3</th>\n",
       "      <td>Ready To Move</td>\n",
       "      <td>Lingadheeranahalli</td>\n",
       "      <td>3 BHK</td>\n",
       "      <td>1521</td>\n",
       "      <td>3.0</td>\n",
       "      <td>1.0</td>\n",
       "      <td>95.00</td>\n",
       "    </tr>\n",
       "    <tr>\n",
       "      <th>4</th>\n",
       "      <td>Ready To Move</td>\n",
       "      <td>Kothanur</td>\n",
       "      <td>2 BHK</td>\n",
       "      <td>1200</td>\n",
       "      <td>2.0</td>\n",
       "      <td>1.0</td>\n",
       "      <td>51.00</td>\n",
       "    </tr>\n",
       "  </tbody>\n",
       "</table>\n",
       "</div>"
      ],
      "text/plain": [
       "    availability                  location       size total_sqft  bath  \\\n",
       "0         19-Dec  Electronic City Phase II      2 BHK       1056   2.0   \n",
       "1  Ready To Move          Chikka Tirupathi  4 Bedroom       2600   5.0   \n",
       "2  Ready To Move               Uttarahalli      3 BHK       1440   2.0   \n",
       "3  Ready To Move        Lingadheeranahalli      3 BHK       1521   3.0   \n",
       "4  Ready To Move                  Kothanur      2 BHK       1200   2.0   \n",
       "\n",
       "   balcony   price  \n",
       "0      1.0   39.07  \n",
       "1      3.0  120.00  \n",
       "2      3.0   62.00  \n",
       "3      1.0   95.00  \n",
       "4      1.0   51.00  "
      ]
     },
     "execution_count": 7,
     "metadata": {},
     "output_type": "execute_result"
    }
   ],
   "source": [
    "df.drop(['society'], axis=1, inplace=True)\n",
    "df.head()"
   ]
  },
  {
   "cell_type": "code",
   "execution_count": 8,
   "id": "aaf1fb37",
   "metadata": {
    "execution": {
     "iopub.execute_input": "2024-06-19T19:04:38.024488Z",
     "iopub.status.busy": "2024-06-19T19:04:38.024090Z",
     "iopub.status.idle": "2024-06-19T19:04:38.128027Z",
     "shell.execute_reply": "2024-06-19T19:04:38.126574Z"
    },
    "papermill": {
     "duration": 0.118585,
     "end_time": "2024-06-19T19:04:38.130478",
     "exception": false,
     "start_time": "2024-06-19T19:04:38.011893",
     "status": "completed"
    },
    "tags": []
   },
   "outputs": [
    {
     "name": "stdout",
     "output_type": "stream",
     "text": [
      "                     location availability              prices  prices_len\n",
      "3                 Bhoganhalli       19-Dec             [22.89]           1\n",
      "5         Devarachikkanahalli       18-May              [44.0]           1\n",
      "9                Rachenahalli       18-May              [19.8]           1\n",
      "10               Rachenahalli       20-Aug              [28.0]           1\n",
      "12                Thanisandra       18-Nov             [25.25]           1\n",
      "...                       ...          ...                 ...         ...\n",
      "2359             manyata park       18-Nov      [84.83, 61.99]           2\n",
      "2360        manyata tech park       18-Apr              [56.0]           1\n",
      "2361  mvj engineering college       18-Jul             [56.53]           1\n",
      "2372                 tc.palya       18-Apr  [62.0, 55.0, 78.0]           3\n",
      "2376               whitefiled       20-Dec             [32.73]           1\n",
      "\n",
      "[1174 rows x 4 columns]\n"
     ]
    }
   ],
   "source": [
    "# Group by 'are_type' and calculate the list of prices and the mean price\n",
    "grouped_df = df.groupby(['location','availability'])['price'].agg(prices=list).reset_index()\n",
    "grouped_df['prices_len'] = grouped_df['prices'].apply(lambda x: len(x))\n",
    "filtered_grouped_df = grouped_df[(grouped_df['availability'] ) != 'Ready To Move']\n",
    "# filtered_grouped_df = filtered_grouped_df[(filtered_grouped_df['prices_len'] ) > 1]\n",
    "print(filtered_grouped_df)\n"
   ]
  },
  {
   "cell_type": "markdown",
   "id": "e76bf97e",
   "metadata": {
    "papermill": {
     "duration": 0.010629,
     "end_time": "2024-06-19T19:04:38.152326",
     "exception": false,
     "start_time": "2024-06-19T19:04:38.141697",
     "status": "completed"
    },
    "tags": []
   },
   "source": [
    "availablity has effect on the final price hence we will keep it"
   ]
  },
  {
   "cell_type": "markdown",
   "id": "ad2603ea",
   "metadata": {
    "papermill": {
     "duration": 0.010849,
     "end_time": "2024-06-19T19:04:38.175430",
     "exception": false,
     "start_time": "2024-06-19T19:04:38.164581",
     "status": "completed"
    },
    "tags": []
   },
   "source": [
    "### Handling Missing Data"
   ]
  },
  {
   "cell_type": "code",
   "execution_count": 9,
   "id": "b4536e6b",
   "metadata": {
    "execution": {
     "iopub.execute_input": "2024-06-19T19:04:38.198818Z",
     "iopub.status.busy": "2024-06-19T19:04:38.198414Z",
     "iopub.status.idle": "2024-06-19T19:04:38.214121Z",
     "shell.execute_reply": "2024-06-19T19:04:38.213069Z"
    },
    "papermill": {
     "duration": 0.030052,
     "end_time": "2024-06-19T19:04:38.216383",
     "exception": false,
     "start_time": "2024-06-19T19:04:38.186331",
     "status": "completed"
    },
    "tags": []
   },
   "outputs": [
    {
     "data": {
      "text/plain": [
       "availability      0\n",
       "location          1\n",
       "size             16\n",
       "total_sqft        0\n",
       "bath             73\n",
       "balcony         609\n",
       "price             0\n",
       "dtype: int64"
      ]
     },
     "execution_count": 9,
     "metadata": {},
     "output_type": "execute_result"
    }
   ],
   "source": [
    "df.isnull().sum()"
   ]
  },
  {
   "cell_type": "code",
   "execution_count": 10,
   "id": "c5dac727",
   "metadata": {
    "execution": {
     "iopub.execute_input": "2024-06-19T19:04:38.240630Z",
     "iopub.status.busy": "2024-06-19T19:04:38.240206Z",
     "iopub.status.idle": "2024-06-19T19:04:38.253364Z",
     "shell.execute_reply": "2024-06-19T19:04:38.252362Z"
    },
    "papermill": {
     "duration": 0.028075,
     "end_time": "2024-06-19T19:04:38.255891",
     "exception": false,
     "start_time": "2024-06-19T19:04:38.227816",
     "status": "completed"
    },
    "tags": []
   },
   "outputs": [],
   "source": [
    "df = df.dropna()"
   ]
  },
  {
   "cell_type": "code",
   "execution_count": 11,
   "id": "5b1314df",
   "metadata": {
    "execution": {
     "iopub.execute_input": "2024-06-19T19:04:38.280647Z",
     "iopub.status.busy": "2024-06-19T19:04:38.280229Z",
     "iopub.status.idle": "2024-06-19T19:04:38.294992Z",
     "shell.execute_reply": "2024-06-19T19:04:38.293805Z"
    },
    "papermill": {
     "duration": 0.030217,
     "end_time": "2024-06-19T19:04:38.297375",
     "exception": false,
     "start_time": "2024-06-19T19:04:38.267158",
     "status": "completed"
    },
    "tags": []
   },
   "outputs": [
    {
     "data": {
      "text/plain": [
       "availability    0\n",
       "location        0\n",
       "size            0\n",
       "total_sqft      0\n",
       "bath            0\n",
       "balcony         0\n",
       "price           0\n",
       "dtype: int64"
      ]
     },
     "execution_count": 11,
     "metadata": {},
     "output_type": "execute_result"
    }
   ],
   "source": [
    "df.isnull().sum()"
   ]
  },
  {
   "cell_type": "code",
   "execution_count": 12,
   "id": "2900c4a4",
   "metadata": {
    "execution": {
     "iopub.execute_input": "2024-06-19T19:04:38.321588Z",
     "iopub.status.busy": "2024-06-19T19:04:38.321172Z",
     "iopub.status.idle": "2024-06-19T19:04:38.326847Z",
     "shell.execute_reply": "2024-06-19T19:04:38.325799Z"
    },
    "papermill": {
     "duration": 0.020543,
     "end_time": "2024-06-19T19:04:38.329254",
     "exception": false,
     "start_time": "2024-06-19T19:04:38.308711",
     "status": "completed"
    },
    "tags": []
   },
   "outputs": [],
   "source": [
    "# rows_with_na = df[df['size'].isna()]\n",
    "# rows_with_na['indexes'] = df[df['size'].isna()].index\n",
    "# merged_df = pd.merge(rows_with_na, df, on=['location', 'total_sqft'], suffixes=('_left', '_right'))\n",
    "\n",
    "# # Fill NaN values in 'size' column with either 'size_left' or 'size_right'\n",
    "# merged_df['size'] = merged_df['size_left'].fillna(merged_df['size_right'])\n",
    "# merged_df['bath'] = merged_df['bath_left'].fillna(merged_df['bath_right'])\n",
    "# merged_df['balcony'] = merged_df['balcony_left'].fillna(merged_df['balcony_right'])\n",
    "\n",
    "# # Drop unnecessary columns\n",
    "# suffixes_to_drop = ['_left', '_right']\n",
    "# merged_df = merged_df.drop([col + suffix for col in ['size', 'bath', 'balcony','availability','price'] for suffix in suffixes_to_drop], axis=1)\n",
    "# print(merged_df)\n",
    "\n",
    "# # Display the merged DataFrame with filled NaN values\n",
    "# for index, i in merged_df.iterrows():\n",
    "#     print(i)\n",
    "#     print(df[(df['location']==i.location)  & ( (df['total_sqft'] > i.total_sqft-100) & (df['total_sqft'] < i.total_sqft+100))])\n",
    "# # df[(df['location']=='IVC Road')  & ( (df['total_sqft'] > 3800) & (df['total_sqft'] < 3900))]\n",
    "# df.loc[merged_df.indexes.tolist(), ['size', 'bath', 'balcony']] = merged_df[['size', 'bath', 'balcony']].values\n",
    "\n",
    "# df.head()"
   ]
  },
  {
   "cell_type": "markdown",
   "id": "4edf942a",
   "metadata": {
    "papermill": {
     "duration": 0.011037,
     "end_time": "2024-06-19T19:04:38.351741",
     "exception": false,
     "start_time": "2024-06-19T19:04:38.340704",
     "status": "completed"
    },
    "tags": []
   },
   "source": [
    "### Data Transformation\n",
    "\n",
    "Since the total_sqft column has str values we need to transform them into floating point numbers"
   ]
  },
  {
   "cell_type": "code",
   "execution_count": 13,
   "id": "75f81b8d",
   "metadata": {
    "execution": {
     "iopub.execute_input": "2024-06-19T19:04:38.376555Z",
     "iopub.status.busy": "2024-06-19T19:04:38.375555Z",
     "iopub.status.idle": "2024-06-19T19:04:38.418918Z",
     "shell.execute_reply": "2024-06-19T19:04:38.417827Z"
    },
    "papermill": {
     "duration": 0.058171,
     "end_time": "2024-06-19T19:04:38.421166",
     "exception": false,
     "start_time": "2024-06-19T19:04:38.362995",
     "status": "completed"
    },
    "tags": []
   },
   "outputs": [
    {
     "data": {
      "text/html": [
       "<div>\n",
       "<style scoped>\n",
       "    .dataframe tbody tr th:only-of-type {\n",
       "        vertical-align: middle;\n",
       "    }\n",
       "\n",
       "    .dataframe tbody tr th {\n",
       "        vertical-align: top;\n",
       "    }\n",
       "\n",
       "    .dataframe thead th {\n",
       "        text-align: right;\n",
       "    }\n",
       "</style>\n",
       "<table border=\"1\" class=\"dataframe\">\n",
       "  <thead>\n",
       "    <tr style=\"text-align: right;\">\n",
       "      <th></th>\n",
       "      <th>availability</th>\n",
       "      <th>location</th>\n",
       "      <th>size</th>\n",
       "      <th>total_sqft</th>\n",
       "      <th>bath</th>\n",
       "      <th>balcony</th>\n",
       "      <th>price</th>\n",
       "    </tr>\n",
       "  </thead>\n",
       "  <tbody>\n",
       "    <tr>\n",
       "      <th>0</th>\n",
       "      <td>19-Dec</td>\n",
       "      <td>Electronic City Phase II</td>\n",
       "      <td>2 BHK</td>\n",
       "      <td>1056.0</td>\n",
       "      <td>2.0</td>\n",
       "      <td>1.0</td>\n",
       "      <td>39.07</td>\n",
       "    </tr>\n",
       "    <tr>\n",
       "      <th>1</th>\n",
       "      <td>Ready To Move</td>\n",
       "      <td>Chikka Tirupathi</td>\n",
       "      <td>4 Bedroom</td>\n",
       "      <td>2600.0</td>\n",
       "      <td>5.0</td>\n",
       "      <td>3.0</td>\n",
       "      <td>120.00</td>\n",
       "    </tr>\n",
       "    <tr>\n",
       "      <th>2</th>\n",
       "      <td>Ready To Move</td>\n",
       "      <td>Uttarahalli</td>\n",
       "      <td>3 BHK</td>\n",
       "      <td>1440.0</td>\n",
       "      <td>2.0</td>\n",
       "      <td>3.0</td>\n",
       "      <td>62.00</td>\n",
       "    </tr>\n",
       "    <tr>\n",
       "      <th>3</th>\n",
       "      <td>Ready To Move</td>\n",
       "      <td>Lingadheeranahalli</td>\n",
       "      <td>3 BHK</td>\n",
       "      <td>1521.0</td>\n",
       "      <td>3.0</td>\n",
       "      <td>1.0</td>\n",
       "      <td>95.00</td>\n",
       "    </tr>\n",
       "    <tr>\n",
       "      <th>4</th>\n",
       "      <td>Ready To Move</td>\n",
       "      <td>Kothanur</td>\n",
       "      <td>2 BHK</td>\n",
       "      <td>1200.0</td>\n",
       "      <td>2.0</td>\n",
       "      <td>1.0</td>\n",
       "      <td>51.00</td>\n",
       "    </tr>\n",
       "  </tbody>\n",
       "</table>\n",
       "</div>"
      ],
      "text/plain": [
       "    availability                  location       size  total_sqft  bath  \\\n",
       "0         19-Dec  Electronic City Phase II      2 BHK      1056.0   2.0   \n",
       "1  Ready To Move          Chikka Tirupathi  4 Bedroom      2600.0   5.0   \n",
       "2  Ready To Move               Uttarahalli      3 BHK      1440.0   2.0   \n",
       "3  Ready To Move        Lingadheeranahalli      3 BHK      1521.0   3.0   \n",
       "4  Ready To Move                  Kothanur      2 BHK      1200.0   2.0   \n",
       "\n",
       "   balcony   price  \n",
       "0      1.0   39.07  \n",
       "1      3.0  120.00  \n",
       "2      3.0   62.00  \n",
       "3      1.0   95.00  \n",
       "4      1.0   51.00  "
      ]
     },
     "execution_count": 13,
     "metadata": {},
     "output_type": "execute_result"
    }
   ],
   "source": [
    "def convert_sqft_to_num(x):\n",
    "    if pd.isna(x):\n",
    "        return np.nan\n",
    "    if '-' in x:\n",
    "        parts = x.split('-')\n",
    "        return (float(parts[0]) + float(parts[1])) / 2\n",
    "    try:\n",
    "        return float(x)\n",
    "    except ValueError:\n",
    "        y = re.match(r'\\d+', x)\n",
    "        y = float(y.group())\n",
    "        if 'Sq. Meter' in x:\n",
    "            return y * 10.7639\n",
    "        if 'Acres' in x:\n",
    "            return y * 43560\n",
    "        if 'Sq. Yards' in x:\n",
    "            return y * 9\n",
    "        if 'Guntha' in x:\n",
    "            return y * 1089\n",
    "        if 'Cents' in x:\n",
    "            return y * 435.6\n",
    "        if 'Grounds' in x:\n",
    "            return y * 2400\n",
    "        if 'Perch' in x:\n",
    "            return y * 272.25\n",
    "        return np.nan\n",
    "\n",
    "# Apply the function to the total_sqft column\n",
    "df['total_sqft'] = df['total_sqft'].apply(convert_sqft_to_num)\n",
    "\n",
    "# Display the DataFrame\n",
    "df.head()"
   ]
  },
  {
   "cell_type": "markdown",
   "id": "187e593f",
   "metadata": {
    "papermill": {
     "duration": 0.011247,
     "end_time": "2024-06-19T19:04:38.443976",
     "exception": false,
     "start_time": "2024-06-19T19:04:38.432729",
     "status": "completed"
    },
    "tags": []
   },
   "source": [
    "### Handling Categorical Data\n",
    "\n",
    "We need to change the size from categorical to numerical "
   ]
  },
  {
   "cell_type": "code",
   "execution_count": 14,
   "id": "d2d8dc07",
   "metadata": {
    "execution": {
     "iopub.execute_input": "2024-06-19T19:04:38.469552Z",
     "iopub.status.busy": "2024-06-19T19:04:38.468595Z",
     "iopub.status.idle": "2024-06-19T19:04:38.477427Z",
     "shell.execute_reply": "2024-06-19T19:04:38.476370Z"
    },
    "papermill": {
     "duration": 0.024145,
     "end_time": "2024-06-19T19:04:38.479783",
     "exception": false,
     "start_time": "2024-06-19T19:04:38.455638",
     "status": "completed"
    },
    "tags": []
   },
   "outputs": [
    {
     "data": {
      "text/plain": [
       "array(['2 BHK', '4 Bedroom', '3 BHK', '3 Bedroom', '1 BHK', '1 RK',\n",
       "       '4 BHK', '1 Bedroom', '2 Bedroom', '6 Bedroom', '8 Bedroom',\n",
       "       '7 Bedroom', '5 BHK', '7 BHK', '6 BHK', '5 Bedroom', '11 BHK',\n",
       "       '9 BHK', '9 Bedroom', '27 BHK', '11 Bedroom', '43 Bedroom',\n",
       "       '14 BHK', '8 BHK', '12 Bedroom', '10 Bedroom', '13 BHK'],\n",
       "      dtype=object)"
      ]
     },
     "execution_count": 14,
     "metadata": {},
     "output_type": "execute_result"
    }
   ],
   "source": [
    "df['size'].unique()"
   ]
  },
  {
   "cell_type": "code",
   "execution_count": 15,
   "id": "85020832",
   "metadata": {
    "execution": {
     "iopub.execute_input": "2024-06-19T19:04:38.505051Z",
     "iopub.status.busy": "2024-06-19T19:04:38.504655Z",
     "iopub.status.idle": "2024-06-19T19:04:38.538625Z",
     "shell.execute_reply": "2024-06-19T19:04:38.537598Z"
    },
    "papermill": {
     "duration": 0.049635,
     "end_time": "2024-06-19T19:04:38.541151",
     "exception": false,
     "start_time": "2024-06-19T19:04:38.491516",
     "status": "completed"
    },
    "tags": []
   },
   "outputs": [
    {
     "data": {
      "text/html": [
       "<div>\n",
       "<style scoped>\n",
       "    .dataframe tbody tr th:only-of-type {\n",
       "        vertical-align: middle;\n",
       "    }\n",
       "\n",
       "    .dataframe tbody tr th {\n",
       "        vertical-align: top;\n",
       "    }\n",
       "\n",
       "    .dataframe thead th {\n",
       "        text-align: right;\n",
       "    }\n",
       "</style>\n",
       "<table border=\"1\" class=\"dataframe\">\n",
       "  <thead>\n",
       "    <tr style=\"text-align: right;\">\n",
       "      <th></th>\n",
       "      <th>availability</th>\n",
       "      <th>location</th>\n",
       "      <th>total_sqft</th>\n",
       "      <th>bath</th>\n",
       "      <th>balcony</th>\n",
       "      <th>price</th>\n",
       "      <th>bhk</th>\n",
       "    </tr>\n",
       "  </thead>\n",
       "  <tbody>\n",
       "    <tr>\n",
       "      <th>0</th>\n",
       "      <td>19-Dec</td>\n",
       "      <td>Electronic City Phase II</td>\n",
       "      <td>1056.0</td>\n",
       "      <td>2.0</td>\n",
       "      <td>1.0</td>\n",
       "      <td>39.07</td>\n",
       "      <td>2</td>\n",
       "    </tr>\n",
       "    <tr>\n",
       "      <th>1</th>\n",
       "      <td>Ready To Move</td>\n",
       "      <td>Chikka Tirupathi</td>\n",
       "      <td>2600.0</td>\n",
       "      <td>5.0</td>\n",
       "      <td>3.0</td>\n",
       "      <td>120.00</td>\n",
       "      <td>4</td>\n",
       "    </tr>\n",
       "    <tr>\n",
       "      <th>2</th>\n",
       "      <td>Ready To Move</td>\n",
       "      <td>Uttarahalli</td>\n",
       "      <td>1440.0</td>\n",
       "      <td>2.0</td>\n",
       "      <td>3.0</td>\n",
       "      <td>62.00</td>\n",
       "      <td>3</td>\n",
       "    </tr>\n",
       "    <tr>\n",
       "      <th>3</th>\n",
       "      <td>Ready To Move</td>\n",
       "      <td>Lingadheeranahalli</td>\n",
       "      <td>1521.0</td>\n",
       "      <td>3.0</td>\n",
       "      <td>1.0</td>\n",
       "      <td>95.00</td>\n",
       "      <td>3</td>\n",
       "    </tr>\n",
       "    <tr>\n",
       "      <th>4</th>\n",
       "      <td>Ready To Move</td>\n",
       "      <td>Kothanur</td>\n",
       "      <td>1200.0</td>\n",
       "      <td>2.0</td>\n",
       "      <td>1.0</td>\n",
       "      <td>51.00</td>\n",
       "      <td>2</td>\n",
       "    </tr>\n",
       "  </tbody>\n",
       "</table>\n",
       "</div>"
      ],
      "text/plain": [
       "    availability                  location  total_sqft  bath  balcony   price  \\\n",
       "0         19-Dec  Electronic City Phase II      1056.0   2.0      1.0   39.07   \n",
       "1  Ready To Move          Chikka Tirupathi      2600.0   5.0      3.0  120.00   \n",
       "2  Ready To Move               Uttarahalli      1440.0   2.0      3.0   62.00   \n",
       "3  Ready To Move        Lingadheeranahalli      1521.0   3.0      1.0   95.00   \n",
       "4  Ready To Move                  Kothanur      1200.0   2.0      1.0   51.00   \n",
       "\n",
       "   bhk  \n",
       "0    2  \n",
       "1    4  \n",
       "2    3  \n",
       "3    3  \n",
       "4    2  "
      ]
     },
     "execution_count": 15,
     "metadata": {},
     "output_type": "execute_result"
    }
   ],
   "source": [
    "df['bhk'] = df['size'].apply(lambda x: int(x.split(' ')[0]))\n",
    "df.drop(['size'], axis=1, inplace=True)\n",
    "df.head()"
   ]
  },
  {
   "cell_type": "code",
   "execution_count": 16,
   "id": "3901964c",
   "metadata": {
    "execution": {
     "iopub.execute_input": "2024-06-19T19:04:38.567547Z",
     "iopub.status.busy": "2024-06-19T19:04:38.566556Z",
     "iopub.status.idle": "2024-06-19T19:04:38.579667Z",
     "shell.execute_reply": "2024-06-19T19:04:38.578526Z"
    },
    "papermill": {
     "duration": 0.028832,
     "end_time": "2024-06-19T19:04:38.581988",
     "exception": false,
     "start_time": "2024-06-19T19:04:38.553156",
     "status": "completed"
    },
    "tags": []
   },
   "outputs": [
    {
     "data": {
      "text/plain": [
       "availability    0\n",
       "location        0\n",
       "total_sqft      0\n",
       "bath            0\n",
       "balcony         0\n",
       "price           0\n",
       "bhk             0\n",
       "dtype: int64"
      ]
     },
     "execution_count": 16,
     "metadata": {},
     "output_type": "execute_result"
    }
   ],
   "source": [
    "df.isnull().sum()"
   ]
  },
  {
   "cell_type": "markdown",
   "id": "d9a64119",
   "metadata": {
    "papermill": {
     "duration": 0.012018,
     "end_time": "2024-06-19T19:04:38.606353",
     "exception": false,
     "start_time": "2024-06-19T19:04:38.594335",
     "status": "completed"
    },
    "tags": []
   },
   "source": [
    "### Feature Engineering \n",
    "\n",
    "Dimentionality Reduction - Since there are a lot of diff locations lets group some of them "
   ]
  },
  {
   "cell_type": "code",
   "execution_count": 17,
   "id": "903323c2",
   "metadata": {
    "execution": {
     "iopub.execute_input": "2024-06-19T19:04:38.632684Z",
     "iopub.status.busy": "2024-06-19T19:04:38.632252Z",
     "iopub.status.idle": "2024-06-19T19:04:38.658603Z",
     "shell.execute_reply": "2024-06-19T19:04:38.657502Z"
    },
    "papermill": {
     "duration": 0.042401,
     "end_time": "2024-06-19T19:04:38.660960",
     "exception": false,
     "start_time": "2024-06-19T19:04:38.618559",
     "status": "completed"
    },
    "tags": []
   },
   "outputs": [
    {
     "name": "stdout",
     "output_type": "stream",
     "text": [
      "Unique Locations Before changing case =  1265\n",
      "Unique Locations After changing case =  1256\n"
     ]
    },
    {
     "data": {
      "text/plain": [
       "location\n",
       "whitefield         514\n",
       "sarjapur  road     372\n",
       "electronic city    300\n",
       "kanakpura road     261\n",
       "thanisandra        231\n",
       "                  ... \n",
       "junnasandra          1\n",
       "k r c kothanur       1\n",
       "kadarenahalli        1\n",
       "kadubisnahalli       1\n",
       "zuzuvadi             1\n",
       "Name: location, Length: 1256, dtype: int64"
      ]
     },
     "execution_count": 17,
     "metadata": {},
     "output_type": "execute_result"
    }
   ],
   "source": [
    "print('Unique Locations Before changing case = ', len(df['location'].unique()))\n",
    "df['location'] = df['location'].str.lower()\n",
    "print('Unique Locations After changing case = ', len(df['location'].unique()))\n",
    "df_location_stats = df.groupby(['location'])['location'].agg('count')\n",
    "df_location_stats.sort_values(ascending=False)"
   ]
  },
  {
   "cell_type": "code",
   "execution_count": 18,
   "id": "871dda70",
   "metadata": {
    "execution": {
     "iopub.execute_input": "2024-06-19T19:04:38.688345Z",
     "iopub.status.busy": "2024-06-19T19:04:38.687209Z",
     "iopub.status.idle": "2024-06-19T19:04:38.742838Z",
     "shell.execute_reply": "2024-06-19T19:04:38.741378Z"
    },
    "papermill": {
     "duration": 0.072281,
     "end_time": "2024-06-19T19:04:38.745658",
     "exception": false,
     "start_time": "2024-06-19T19:04:38.673377",
     "status": "completed"
    },
    "tags": []
   },
   "outputs": [
    {
     "name": "stdout",
     "output_type": "stream",
     "text": [
      "Locations to be grouped =  1019\n",
      "Unique Locations finally = 238\n"
     ]
    }
   ],
   "source": [
    "df_locations_less_than_10 = df_location_stats[df_location_stats<=10]\n",
    "print('Locations to be grouped = ',len(df_locations_less_than_10))\n",
    "\n",
    "df['location']=df['location'].apply(lambda x: 'other' if x in df_locations_less_than_10 else x)\n",
    "print('Unique Locations finally =', len(df['location'].unique()))"
   ]
  },
  {
   "cell_type": "markdown",
   "id": "0ba7a919",
   "metadata": {
    "papermill": {
     "duration": 0.01235,
     "end_time": "2024-06-19T19:04:38.771197",
     "exception": false,
     "start_time": "2024-06-19T19:04:38.758847",
     "status": "completed"
    },
    "tags": []
   },
   "source": [
    "Lets make a new column for price per sqft"
   ]
  },
  {
   "cell_type": "code",
   "execution_count": 19,
   "id": "b20e752c",
   "metadata": {
    "execution": {
     "iopub.execute_input": "2024-06-19T19:04:38.798795Z",
     "iopub.status.busy": "2024-06-19T19:04:38.797881Z",
     "iopub.status.idle": "2024-06-19T19:04:38.816287Z",
     "shell.execute_reply": "2024-06-19T19:04:38.815214Z"
    },
    "papermill": {
     "duration": 0.034791,
     "end_time": "2024-06-19T19:04:38.818791",
     "exception": false,
     "start_time": "2024-06-19T19:04:38.784000",
     "status": "completed"
    },
    "tags": []
   },
   "outputs": [
    {
     "data": {
      "text/html": [
       "<div>\n",
       "<style scoped>\n",
       "    .dataframe tbody tr th:only-of-type {\n",
       "        vertical-align: middle;\n",
       "    }\n",
       "\n",
       "    .dataframe tbody tr th {\n",
       "        vertical-align: top;\n",
       "    }\n",
       "\n",
       "    .dataframe thead th {\n",
       "        text-align: right;\n",
       "    }\n",
       "</style>\n",
       "<table border=\"1\" class=\"dataframe\">\n",
       "  <thead>\n",
       "    <tr style=\"text-align: right;\">\n",
       "      <th></th>\n",
       "      <th>availability</th>\n",
       "      <th>location</th>\n",
       "      <th>total_sqft</th>\n",
       "      <th>bath</th>\n",
       "      <th>balcony</th>\n",
       "      <th>price</th>\n",
       "      <th>bhk</th>\n",
       "      <th>price_per_sqft</th>\n",
       "    </tr>\n",
       "  </thead>\n",
       "  <tbody>\n",
       "    <tr>\n",
       "      <th>0</th>\n",
       "      <td>19-Dec</td>\n",
       "      <td>electronic city phase ii</td>\n",
       "      <td>1056.0</td>\n",
       "      <td>2.0</td>\n",
       "      <td>1.0</td>\n",
       "      <td>39.07</td>\n",
       "      <td>2</td>\n",
       "      <td>3699.810606</td>\n",
       "    </tr>\n",
       "    <tr>\n",
       "      <th>1</th>\n",
       "      <td>Ready To Move</td>\n",
       "      <td>chikka tirupathi</td>\n",
       "      <td>2600.0</td>\n",
       "      <td>5.0</td>\n",
       "      <td>3.0</td>\n",
       "      <td>120.00</td>\n",
       "      <td>4</td>\n",
       "      <td>4615.384615</td>\n",
       "    </tr>\n",
       "    <tr>\n",
       "      <th>2</th>\n",
       "      <td>Ready To Move</td>\n",
       "      <td>uttarahalli</td>\n",
       "      <td>1440.0</td>\n",
       "      <td>2.0</td>\n",
       "      <td>3.0</td>\n",
       "      <td>62.00</td>\n",
       "      <td>3</td>\n",
       "      <td>4305.555556</td>\n",
       "    </tr>\n",
       "    <tr>\n",
       "      <th>3</th>\n",
       "      <td>Ready To Move</td>\n",
       "      <td>lingadheeranahalli</td>\n",
       "      <td>1521.0</td>\n",
       "      <td>3.0</td>\n",
       "      <td>1.0</td>\n",
       "      <td>95.00</td>\n",
       "      <td>3</td>\n",
       "      <td>6245.890861</td>\n",
       "    </tr>\n",
       "    <tr>\n",
       "      <th>4</th>\n",
       "      <td>Ready To Move</td>\n",
       "      <td>kothanur</td>\n",
       "      <td>1200.0</td>\n",
       "      <td>2.0</td>\n",
       "      <td>1.0</td>\n",
       "      <td>51.00</td>\n",
       "      <td>2</td>\n",
       "      <td>4250.000000</td>\n",
       "    </tr>\n",
       "  </tbody>\n",
       "</table>\n",
       "</div>"
      ],
      "text/plain": [
       "    availability                  location  total_sqft  bath  balcony   price  \\\n",
       "0         19-Dec  electronic city phase ii      1056.0   2.0      1.0   39.07   \n",
       "1  Ready To Move          chikka tirupathi      2600.0   5.0      3.0  120.00   \n",
       "2  Ready To Move               uttarahalli      1440.0   2.0      3.0   62.00   \n",
       "3  Ready To Move        lingadheeranahalli      1521.0   3.0      1.0   95.00   \n",
       "4  Ready To Move                  kothanur      1200.0   2.0      1.0   51.00   \n",
       "\n",
       "   bhk  price_per_sqft  \n",
       "0    2     3699.810606  \n",
       "1    4     4615.384615  \n",
       "2    3     4305.555556  \n",
       "3    3     6245.890861  \n",
       "4    2     4250.000000  "
      ]
     },
     "execution_count": 19,
     "metadata": {},
     "output_type": "execute_result"
    }
   ],
   "source": [
    "df['price_per_sqft']=df['price']*100000/df['total_sqft']\n",
    "df.head()"
   ]
  },
  {
   "cell_type": "markdown",
   "id": "0d1ea29f",
   "metadata": {
    "papermill": {
     "duration": 0.012587,
     "end_time": "2024-06-19T19:04:38.844308",
     "exception": false,
     "start_time": "2024-06-19T19:04:38.831721",
     "status": "completed"
    },
    "tags": []
   },
   "source": [
    "### Outlier Removal\n",
    "\n",
    "We can assume that a bedroom is of 200sqft at the very least, so we should remove those entries where the room sizes are too small"
   ]
  },
  {
   "cell_type": "code",
   "execution_count": 20,
   "id": "4df5959a",
   "metadata": {
    "execution": {
     "iopub.execute_input": "2024-06-19T19:04:38.872241Z",
     "iopub.status.busy": "2024-06-19T19:04:38.871826Z",
     "iopub.status.idle": "2024-06-19T19:04:38.883251Z",
     "shell.execute_reply": "2024-06-19T19:04:38.881893Z"
    },
    "papermill": {
     "duration": 0.028432,
     "end_time": "2024-06-19T19:04:38.885720",
     "exception": false,
     "start_time": "2024-06-19T19:04:38.857288",
     "status": "completed"
    },
    "tags": []
   },
   "outputs": [
    {
     "name": "stdout",
     "output_type": "stream",
     "text": [
      "Total rows = (12710, 8)\n",
      "Outliers to be removed = (284, 8)\n",
      "Total rows = (12426, 8)\n"
     ]
    }
   ],
   "source": [
    "print('Total rows =',df.shape)\n",
    "print('Outliers to be removed =',df[df['total_sqft']/df['bhk']<200].shape)\n",
    "\n",
    "df = df[~(df['total_sqft']/df['bhk']<200)]\n",
    "print('Total rows =',df.shape)"
   ]
  },
  {
   "cell_type": "code",
   "execution_count": null,
   "id": "95e1a0b7",
   "metadata": {
    "papermill": {
     "duration": 0.012687,
     "end_time": "2024-06-19T19:04:38.911719",
     "exception": false,
     "start_time": "2024-06-19T19:04:38.899032",
     "status": "completed"
    },
    "tags": []
   },
   "outputs": [],
   "source": []
  },
  {
   "cell_type": "code",
   "execution_count": null,
   "id": "a89f52d0",
   "metadata": {
    "papermill": {
     "duration": 0.012643,
     "end_time": "2024-06-19T19:04:38.937542",
     "exception": false,
     "start_time": "2024-06-19T19:04:38.924899",
     "status": "completed"
    },
    "tags": []
   },
   "outputs": [],
   "source": []
  }
 ],
 "metadata": {
  "kaggle": {
   "accelerator": "none",
   "dataSources": [
    {
     "datasetId": 20710,
     "sourceId": 26737,
     "sourceType": "datasetVersion"
    }
   ],
   "dockerImageVersionId": 30732,
   "isGpuEnabled": false,
   "isInternetEnabled": true,
   "language": "python",
   "sourceType": "notebook"
  },
  "kernelspec": {
   "display_name": "Python 3",
   "language": "python",
   "name": "python3"
  },
  "language_info": {
   "codemirror_mode": {
    "name": "ipython",
    "version": 3
   },
   "file_extension": ".py",
   "mimetype": "text/x-python",
   "name": "python",
   "nbconvert_exporter": "python",
   "pygments_lexer": "ipython3",
   "version": "3.10.13"
  },
  "papermill": {
   "default_parameters": {},
   "duration": 7.684051,
   "end_time": "2024-06-19T19:04:39.572872",
   "environment_variables": {},
   "exception": null,
   "input_path": "__notebook__.ipynb",
   "output_path": "__notebook__.ipynb",
   "parameters": {},
   "start_time": "2024-06-19T19:04:31.888821",
   "version": "2.5.0"
  }
 },
 "nbformat": 4,
 "nbformat_minor": 5
}
